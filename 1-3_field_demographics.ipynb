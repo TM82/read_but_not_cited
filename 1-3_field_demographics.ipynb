{
 "cells": [
  {
   "cell_type": "markdown",
   "metadata": {
    "toc": true
   },
   "source": [
    "<h1>Table of Contents<span class=\"tocSkip\"></span></h1>\n",
    "<div class=\"toc\"><ul class=\"toc-item\"><li><span><a href=\"#キーワード辞書の取得\" data-toc-modified-id=\"キーワード辞書の取得-1\"><span class=\"toc-item-num\">1&nbsp;&nbsp;</span>キーワード辞書の取得</a></span></li><li><span><a href=\"#キーワード辞書の中身の確認\" data-toc-modified-id=\"キーワード辞書の中身の確認-2\"><span class=\"toc-item-num\">2&nbsp;&nbsp;</span>キーワード辞書の中身の確認</a></span><ul class=\"toc-item\"><li><span><a href=\"#分野\" data-toc-modified-id=\"分野-2.1\"><span class=\"toc-item-num\">2.1&nbsp;&nbsp;</span>分野</a></span></li><li><span><a href=\"#トピック\" data-toc-modified-id=\"トピック-2.2\"><span class=\"toc-item-num\">2.2&nbsp;&nbsp;</span>トピック</a></span></li></ul></li><li><span><a href=\"#4分野への圧縮\" data-toc-modified-id=\"4分野への圧縮-3\"><span class=\"toc-item-num\">3&nbsp;&nbsp;</span>4分野への圧縮</a></span></li></ul></div>"
   ]
  },
  {
   "cell_type": "code",
   "execution_count": 1,
   "metadata": {
    "ExecuteTime": {
     "end_time": "2023-05-04T06:57:41.003450Z",
     "start_time": "2023-05-04T06:57:38.752206Z"
    },
    "execution": {
     "iopub.execute_input": "2023-11-29T05:59:33.176322Z",
     "iopub.status.busy": "2023-11-29T05:59:33.175014Z",
     "iopub.status.idle": "2023-11-29T05:59:34.470350Z",
     "shell.execute_reply": "2023-11-29T05:59:34.469864Z",
     "shell.execute_reply.started": "2023-11-29T05:59:33.176260Z"
    }
   },
   "outputs": [],
   "source": [
    "# import argparse\n",
    "import collections\n",
    "from collections import Counter, defaultdict\n",
    "import configparser\n",
    "import os\n",
    "from matplotlib import pyplot as plt\n",
    "import scienceplots\n",
    "plt.rcParams['figure.dpi'] = 200\n",
    "plt.style.use(['science','no-latex'])\n",
    "import numpy as np\n",
    "import pandas as pd\n",
    "import pickle\n",
    "\n",
    "import polars as pl\n",
    "\n",
    "from textblob import TextBlob\n",
    "\n",
    "import time\n",
    "\n",
    "config = configparser.ConfigParser()\n",
    "config.read('./config.ini', encoding='utf-8')\n",
    "SAVE_DIR = config.get('settings','SAVE_DIR')\n",
    "WORK_DIR = config.get('settings','WORK_DIR')\n",
    "SHARE_DIR = config.get('settings','SHARE_DIR')"
   ]
  },
  {
   "cell_type": "markdown",
   "metadata": {},
   "source": [
    "# Create keywords dic"
   ]
  },
  {
   "cell_type": "code",
   "execution_count": 8,
   "metadata": {
    "ExecuteTime": {
     "end_time": "2023-05-02T01:03:59.179155Z",
     "start_time": "2023-05-02T01:03:59.156740Z"
    },
    "execution": {
     "iopub.execute_input": "2023-11-16T13:43:32.494141Z",
     "iopub.status.busy": "2023-11-16T13:43:32.493620Z",
     "iopub.status.idle": "2023-11-16T13:43:32.507832Z",
     "shell.execute_reply": "2023-11-16T13:43:32.506853Z",
     "shell.execute_reply.started": "2023-11-16T13:43:32.494122Z"
    }
   },
   "outputs": [],
   "source": [
    "def flatten(l):\n",
    "    \"\"\"\n",
    "    Flattens a nested list.\n",
    "    Even though `str` and `bytes` are iterable, we do not want to split them, so the function recursively runs until it encounters a `str`, `bytes`, or a non-iterable type.\n",
    "\n",
    "    Args:\n",
    "        l: An iterable type\n",
    "    \n",
    "    Returns:\n",
    "        A generator of the flattened list\n",
    "    \n",
    "    \"\"\"\n",
    "    for el in l:\n",
    "        if isinstance(el, collections.abc.Iterable) and not isinstance(el, (str, bytes)):\n",
    "            yield from flatten(el)\n",
    "        else:\n",
    "            yield el\n",
    "\n",
    "def get_tficf_dic(df,col_lower_cluster,col_nouns):\n",
    "    \"\"\"Returns a dictionary of TFICF for each cluster.\n",
    "\n",
    "    Args:\n",
    "        df: A pd.DataFrame where each row contains a single paper, partition, and a list of nouns\n",
    "        col_lower_cluster: The column name of the partition to be used\n",
    "        col_nouns: The column name containing the nouns for each document\n",
    "    \n",
    "    Returns:\n",
    "        A dictionary with (cluster_id, word) as the key and TFICF as the value\n",
    "    \"\"\"\n",
    "    \n",
    "    def get_icf(df, col_cluster, col_nouns):\n",
    "        \"\"\"Creates an ICF dictionary.\n",
    "\n",
    "        Args:\n",
    "            df: A pd.DataFrame where each row contains a single paper, partition, and a list of nouns\n",
    "            col_cluster: The column name of the partition to be used\n",
    "            col_nouns: The column name containing the nouns for each document\n",
    "        \n",
    "        Returns:\n",
    "            dict: An ICF dictionary where the keys are words and the values are their ICF scores\n",
    "\n",
    "        \"\"\"\n",
    "        \n",
    "        word_ncluster = dict(df[[col_cluster,col_nouns]]\n",
    "            .explode(col_nouns)\n",
    "            .unique(subset=[col_nouns,col_cluster])\n",
    "            .groupby(col_nouns)\n",
    "            .agg(pl.count())\n",
    "            .iter_rows()\n",
    "        )\n",
    "        n_ucluster = df[col_cluster].n_unique() \n",
    "        if n_ucluster == 0:\n",
    "            return {}\n",
    "        else:\n",
    "            return {word: np.log((n_ucluster)/word_ncluster[word]) for word in word_ncluster} #{word: score}, #col_clusterの中のnounsが0の時\n",
    "        \n",
    "    def get_tf(df, col_cluster, col_nouns):\n",
    "        \"\"\"Creates a TF dictionary and returns the ratio of a keyword in the text as (cluster_id, word, ratio).\n",
    "\n",
    "        Args:\n",
    "            df: A pd.DataFrame where each row contains a single paper, partition, and a list of nouns\n",
    "            col_cluster: The column name of the partition to be used\n",
    "            col_nouns: The column name containing the nouns for each document\n",
    "        \n",
    "        Returns:\n",
    "            dict: A TF dictionary where the keys are (col, word) and the values are their TF scores\n",
    "\n",
    "        \"\"\"\n",
    "        c_size = dict(df.groupby(by=col_cluster)\n",
    "                  .agg([pl.apply(exprs=[col_nouns], f=lambda l: len(list(flatten(l)))).alias('len')])\n",
    "                  [[col_cluster,'len']]\n",
    "                  .iter_rows()\n",
    "                  )\n",
    "\n",
    "        n_word_incs = {k: Counter(v) for k,v in (df.groupby(by=col_cluster) \n",
    "                           .agg([pl.apply(exprs=[col_nouns], f=lambda l: list(flatten(l)))])\n",
    "                           [[col_cluster,col_nouns]]\n",
    "                           .iter_rows()\n",
    "                          )}\n",
    "        return  {(cluster_id, word): n_word_inc/c_size[cluster_id] for cluster_id, dic in n_word_incs.items() for word, n_word_inc in dic.items()} # {(cid, word): score}\n",
    "    \n",
    "    t = time.time()\n",
    "    print('start',time.time()-t)\n",
    "    \n",
    "    ICF = get_icf(df=df, col_cluster=col_lower_cluster, col_nouns=col_nouns)\n",
    "    print('ICF_create',time.time()-t)\n",
    "    t = time.time()\n",
    "    \n",
    "    TF = get_tf(df=df, col_cluster=col_lower_cluster, col_nouns=col_nouns)\n",
    "    print('TF_create',time.time()-t)\n",
    "    t = time.time()\n",
    "    \n",
    "    tficf_dic = defaultdict(lambda: defaultdict(float))\n",
    "    for (cluster_id, word) in TF:\n",
    "        tficf_dic[cluster_id][word] = TF[cluster_id,word] * ICF[word] \n",
    "    print('tficf_dic',time.time()-t)\n",
    "    \n",
    "    \n",
    "    return tficf_dic\n",
    "\n",
    "\n",
    "def get_relative_keywords(df,col_lower_cluster,col_higher_cluster,col_nouns,m=25,n=5):\n",
    "    \"\"\"\n",
    "    Returns words that are not present in higher-level clusters but appear frequently in lower-level clusters.\n",
    "    For measuring the degree of presence in lower-level clusters, TF-IDF is used for ease of comparison, instead of raw frequency.\n",
    "    \n",
    "    Args:\n",
    "        col_lower_cluster: The column name of the lower-level cluster\n",
    "        col_higher_cluster: The column name of the higher-level cluster\n",
    "        col_nouns: The column name containing the noun keywords\n",
    "        m: Hyperparameter for relative term extraction; higher values emphasize presence in lower-level clusters over absence in higher-level clusters, and lower values do the opposite\n",
    "        n: Number of keywords to extract\n",
    "    \n",
    "    Returns:\n",
    "        dict: A dictionary with cluster_id as the key and a list of keywords as the value\n",
    "    \"\"\"\n",
    "    \n",
    "    def score(tficf_ut, n_vt, m=25):\n",
    "        return tficf_ut / (n_vt+m)\n",
    "    \n",
    "    if col_higher_cluster:\n",
    "        u_tficf_dic = get_tficf_dic(df, col_lower_cluster, col_nouns) #{c: {w:tficf, ...},...}\n",
    "        n_vt_dic = df.groupby(col_higher_cluster)[col_nouns].agg(list).map(lambda l: Counter(sum(l,[]))).to_dict()\n",
    "        \n",
    "        keywords_dic = {}\n",
    "        for c in u_tficf_dic:\n",
    "            c_higher = df[df[col_lower_cluster]==c][col_higher_cluster].iloc[0]\n",
    "            scores = [(w,score(tficf_ut=u_tficf_dic[c][w],n_vt=n_vt_dic[c_higher][w],m=m)) for w in u_tficf_dic[c]]\n",
    "            keywords_dic[c] = [i[0] for i in sorted(scores, key=lambda x: x[1], reverse=True)[:n]]\n",
    "            print(len(keywords_dic))\n",
    "\n",
    "    else:\n",
    "        u_tficf_dic = get_tficf_dic(df, col_lower_cluster, col_nouns) #{c: {w:tficf, ...},...}\n",
    "        keywords_dic = {}\n",
    "        for c in u_tficf_dic:\n",
    "            scores = [(w,score(tficf_ut=u_tficf_dic[c][w],n_vt=0,m=m)) for w in u_tficf_dic[c]]\n",
    "            keywords_dic[c] = [i[0] for i in sorted(scores, key=lambda x: x[1], reverse=True)[:n]]\n",
    "\n",
    "    return keywords_dic"
   ]
  },
  {
   "cell_type": "code",
   "execution_count": 4,
   "metadata": {
    "ExecuteTime": {
     "end_time": "2023-05-01T23:42:14.311283Z",
     "start_time": "2023-05-01T23:42:14.290190Z"
    }
   },
   "outputs": [],
   "source": [
    "for RESOLUTION, NMIN in zip([1e-06, 5e-04],[100000, 1000]):\n",
    "\n",
    "    ## NO KEYWORDSの削除\n",
    "    df = (pd.concat([\n",
    "            pd.read_pickle(SHARE_DIR+'paper_detail/keywords.pickle'),\n",
    "            pd.read_pickle(SAVE_DIR+f'paper_detail/partition_in_2021_{RESOLUTION}_{NMIN}_waltman.pickle'),\n",
    "        ],axis=1)\n",
    "            .assign(keywords = lambda df: df['keywords'].map(lambda l: [x.lower() for x in l if x != 'NO KEYWORDS']))\n",
    "         )\n",
    "    print(df.shape)\n",
    "\n",
    "    df_valid = df[df['keywords'].map(len)!=0].dropna(subset=[f'partition_{RESOLUTION}']).astype({f'partition_{RESOLUTION}':int})\n",
    "    print(df_valid.shape)\n",
    "\n",
    "    ## polarsに変換\n",
    "    df_polars1 = pl.from_pandas(df_valid.iloc[:20000000]) \n",
    "    df_polars2 = pl.from_pandas(df_valid.iloc[20000000:])\n",
    "    df_polars = pl.concat([df_polars1, df_polars2])\n",
    "\n",
    "    display(df_polars.head())\n",
    "\n",
    "    keyword_dic = get_relative_keywords(df_polars, col_lower_cluster=f'partition_{RESOLUTION}', col_higher_cluster=None, col_nouns='keywords',m=1,n=30)\n",
    "\n",
    "    with open(SAVE_DIR+f'paper_detail/keywords_in_2021_{RESOLUTION}_{NMIN}_tficf_waltman.pickle','wb') as f:\n",
    "        pickle.dump(dict(keyword_dic), f)"
   ]
  },
  {
   "cell_type": "code",
   "execution_count": 9,
   "metadata": {
    "ExecuteTime": {
     "end_time": "2023-05-02T01:04:50.114210Z",
     "start_time": "2023-05-02T01:04:50.108943Z"
    }
   },
   "outputs": [
    {
     "name": "stdout",
     "output_type": "stream",
     "text": [
      "67\n"
     ]
    }
   ],
   "source": [
    "print(len(keyword_dic)) # -> 1e-06: 67\n",
    "print(len(keyword_dic)) # -> 5e-04: 15521"
   ]
  },
  {
   "cell_type": "code",
   "execution_count": 25,
   "metadata": {
    "ExecuteTime": {
     "end_time": "2023-05-02T01:51:54.607943Z",
     "start_time": "2023-05-02T01:50:47.739125Z"
    }
   },
   "outputs": [
    {
     "data": {
      "text/html": [
       "<div>\n",
       "<style scoped>\n",
       "    .dataframe tbody tr th:only-of-type {\n",
       "        vertical-align: middle;\n",
       "    }\n",
       "\n",
       "    .dataframe tbody tr th {\n",
       "        vertical-align: top;\n",
       "    }\n",
       "\n",
       "    .dataframe thead th {\n",
       "        text-align: right;\n",
       "    }\n",
       "</style>\n",
       "<table border=\"1\" class=\"dataframe\">\n",
       "  <thead>\n",
       "    <tr style=\"text-align: right;\">\n",
       "      <th></th>\n",
       "      <th>partition</th>\n",
       "      <th>n_1970-2021</th>\n",
       "      <th>n_2016</th>\n",
       "      <th>word0</th>\n",
       "      <th>word1</th>\n",
       "      <th>word2</th>\n",
       "      <th>word3</th>\n",
       "      <th>word4</th>\n",
       "      <th>word5</th>\n",
       "      <th>word6</th>\n",
       "      <th>...</th>\n",
       "      <th>word20</th>\n",
       "      <th>word21</th>\n",
       "      <th>word22</th>\n",
       "      <th>word23</th>\n",
       "      <th>word24</th>\n",
       "      <th>word25</th>\n",
       "      <th>word26</th>\n",
       "      <th>word27</th>\n",
       "      <th>word28</th>\n",
       "      <th>word29</th>\n",
       "    </tr>\n",
       "  </thead>\n",
       "  <tbody>\n",
       "    <tr>\n",
       "      <th>0</th>\n",
       "      <td>-1</td>\n",
       "      <td>193660</td>\n",
       "      <td>5739</td>\n",
       "      <td>new species</td>\n",
       "      <td>poetry</td>\n",
       "      <td>cultivar</td>\n",
       "      <td>history</td>\n",
       "      <td>education</td>\n",
       "      <td>psychoanalysis</td>\n",
       "      <td>identity</td>\n",
       "      <td>...</td>\n",
       "      <td>intertextuality</td>\n",
       "      <td>transylvania</td>\n",
       "      <td>politics</td>\n",
       "      <td>russia</td>\n",
       "      <td>design</td>\n",
       "      <td>art</td>\n",
       "      <td>body</td>\n",
       "      <td>language</td>\n",
       "      <td>taxonomy</td>\n",
       "      <td>philosophy</td>\n",
       "    </tr>\n",
       "    <tr>\n",
       "      <th>1</th>\n",
       "      <td>0</td>\n",
       "      <td>168317</td>\n",
       "      <td>3193</td>\n",
       "      <td>density functional theory</td>\n",
       "      <td>dft</td>\n",
       "      <td>method mndo</td>\n",
       "      <td>acid power</td>\n",
       "      <td>ab initio calculations</td>\n",
       "      <td>method ab initio</td>\n",
       "      <td>acid force</td>\n",
       "      <td>...</td>\n",
       "      <td>relativistic effects</td>\n",
       "      <td>nmr</td>\n",
       "      <td>quantum chemical calculations</td>\n",
       "      <td>quantum-chemical calculation</td>\n",
       "      <td>molecular dynamics</td>\n",
       "      <td>hydrogen bond</td>\n",
       "      <td>hydrogen bonding</td>\n",
       "      <td>cyclic voltammetry</td>\n",
       "      <td>spectroscopic constants</td>\n",
       "      <td>quantum-chemical calculations</td>\n",
       "    </tr>\n",
       "    <tr>\n",
       "      <th>2</th>\n",
       "      <td>1</td>\n",
       "      <td>165883</td>\n",
       "      <td>8086</td>\n",
       "      <td>technology acceptance model</td>\n",
       "      <td>e-commerce</td>\n",
       "      <td>trust</td>\n",
       "      <td>tam</td>\n",
       "      <td>e-learning</td>\n",
       "      <td>technology acceptance</td>\n",
       "      <td>electronic commerce</td>\n",
       "      <td>...</td>\n",
       "      <td>continuance intention</td>\n",
       "      <td>consumer behaviour</td>\n",
       "      <td>social media</td>\n",
       "      <td>mobile banking</td>\n",
       "      <td>purchase intention</td>\n",
       "      <td>perceived ease of use</td>\n",
       "      <td>satisfaction</td>\n",
       "      <td>higher education</td>\n",
       "      <td>social commerce</td>\n",
       "      <td>security</td>\n",
       "    </tr>\n",
       "    <tr>\n",
       "      <th>3</th>\n",
       "      <td>2</td>\n",
       "      <td>138371</td>\n",
       "      <td>6558</td>\n",
       "      <td>adsorption</td>\n",
       "      <td>biosorption</td>\n",
       "      <td>activated carbon</td>\n",
       "      <td>isotherm</td>\n",
       "      <td>heavy metals</td>\n",
       "      <td>methylene blue</td>\n",
       "      <td>isotherms</td>\n",
       "      <td>...</td>\n",
       "      <td>dye removal</td>\n",
       "      <td>desorption</td>\n",
       "      <td>removal</td>\n",
       "      <td>adsorption isotherms</td>\n",
       "      <td>lead</td>\n",
       "      <td>dye</td>\n",
       "      <td>kinetic</td>\n",
       "      <td>congo red</td>\n",
       "      <td>cr(vi)</td>\n",
       "      <td>heavy metal ions</td>\n",
       "    </tr>\n",
       "    <tr>\n",
       "      <th>4</th>\n",
       "      <td>3</td>\n",
       "      <td>129994</td>\n",
       "      <td>6921</td>\n",
       "      <td>innovation</td>\n",
       "      <td>open innovation</td>\n",
       "      <td>absorptive capacity</td>\n",
       "      <td>competitiveness</td>\n",
       "      <td>innovation performance</td>\n",
       "      <td>entrepreneurship</td>\n",
       "      <td>smes</td>\n",
       "      <td>...</td>\n",
       "      <td>knowledge transfer</td>\n",
       "      <td>globalization</td>\n",
       "      <td>collaboration</td>\n",
       "      <td>networks</td>\n",
       "      <td>alliances</td>\n",
       "      <td>industrial policy</td>\n",
       "      <td>clusters</td>\n",
       "      <td>regional innovation system</td>\n",
       "      <td>human capital</td>\n",
       "      <td>competitive advantage</td>\n",
       "    </tr>\n",
       "  </tbody>\n",
       "</table>\n",
       "<p>5 rows × 33 columns</p>\n",
       "</div>"
      ],
      "text/plain": [
       "   partition  n_1970-2021  n_2016                        word0  \\\n",
       "0         -1       193660    5739                  new species   \n",
       "1          0       168317    3193    density functional theory   \n",
       "2          1       165883    8086  technology acceptance model   \n",
       "3          2       138371    6558                   adsorption   \n",
       "4          3       129994    6921                   innovation   \n",
       "\n",
       "             word1                word2            word3  \\\n",
       "0           poetry             cultivar          history   \n",
       "1              dft          method mndo       acid power   \n",
       "2       e-commerce                trust              tam   \n",
       "3      biosorption     activated carbon         isotherm   \n",
       "4  open innovation  absorptive capacity  competitiveness   \n",
       "\n",
       "                    word4                  word5                word6  ...  \\\n",
       "0               education         psychoanalysis             identity  ...   \n",
       "1  ab initio calculations       method ab initio           acid force  ...   \n",
       "2              e-learning  technology acceptance  electronic commerce  ...   \n",
       "3            heavy metals         methylene blue            isotherms  ...   \n",
       "4  innovation performance       entrepreneurship                 smes  ...   \n",
       "\n",
       "                  word20              word21                         word22  \\\n",
       "0        intertextuality        transylvania                       politics   \n",
       "1   relativistic effects                 nmr  quantum chemical calculations   \n",
       "2  continuance intention  consumer behaviour                   social media   \n",
       "3            dye removal          desorption                        removal   \n",
       "4     knowledge transfer       globalization                  collaboration   \n",
       "\n",
       "                         word23              word24                 word25  \\\n",
       "0                        russia              design                    art   \n",
       "1  quantum-chemical calculation  molecular dynamics          hydrogen bond   \n",
       "2                mobile banking  purchase intention  perceived ease of use   \n",
       "3          adsorption isotherms                lead                    dye   \n",
       "4                      networks           alliances      industrial policy   \n",
       "\n",
       "             word26                      word27                   word28  \\\n",
       "0              body                    language                 taxonomy   \n",
       "1  hydrogen bonding          cyclic voltammetry  spectroscopic constants   \n",
       "2      satisfaction            higher education          social commerce   \n",
       "3           kinetic                   congo red                   cr(vi)   \n",
       "4          clusters  regional innovation system            human capital   \n",
       "\n",
       "                          word29  \n",
       "0                     philosophy  \n",
       "1  quantum-chemical calculations  \n",
       "2                       security  \n",
       "3               heavy metal ions  \n",
       "4          competitive advantage  \n",
       "\n",
       "[5 rows x 33 columns]"
      ]
     },
     "metadata": {},
     "output_type": "display_data"
    }
   ],
   "source": [
    "for RESOLUTION, NMIN in zip([1e-06, 5e-04],[100000, 1000]):\n",
    "    \n",
    "    papers = pd.merge(\n",
    "        pd.read_pickle(SHARE_DIR+f'paper_detail/eid.pickle'),\n",
    "        pd.read_pickle(SAVE_DIR+f'paper_detail/partition_in_2021_{RESOLUTION}_{NMIN}_waltman.pickle'),\n",
    "        left_index=True,right_index=True,how='right' #2021までのデータに合わせたいので、右で\n",
    "    )[f'partition_{RESOLUTION}'].value_counts().to_dict()\n",
    "    \n",
    "    papers_2016 = pd.merge(\n",
    "        pd.read_pickle(SAVE_DIR+'paper_detail_2016/eid_2016.pickle'),\n",
    "        pd.read_pickle(SAVE_DIR+f'paper_detail/partition_in_2021_{RESOLUTION}_{NMIN}_waltman.pickle'),\n",
    "        left_on='eid',right_index=True,how='left'\n",
    "    )[f'partition_{RESOLUTION}'].value_counts().to_dict()\n",
    "    \n",
    "    with open(SAVE_DIR+f'paper_detail/keywords_in_2021_{RESOLUTION}_{NMIN}_tficf_waltman.pickle','rb') as f:\n",
    "        keyword_dic = pickle.load(f)\n",
    "    \n",
    "    rows = [\n",
    "        [partition, papers[partition], papers_2016.get(partition,0)]  + keywords\n",
    "        for partition,keywords in sorted(keyword_dic.items(),key=lambda x: x[0])\n",
    "    ]\n",
    "    \n",
    "    _ = pd.DataFrame(rows, columns=['partition','n_1970-2021','n_2016']+[f'word{i}' for i in range(30)])\n",
    "    \n",
    "    display(_.head())\n",
    "    \n",
    "    _.to_excel(SAVE_DIR+f'paper_detail/keywords_in_2021_{RESOLUTION}_{NMIN}_tficf_waltman.xlsx')"
   ]
  },
  {
   "cell_type": "markdown",
   "metadata": {},
   "source": [
    "# キーワード辞書の中身の確認"
   ]
  },
  {
   "cell_type": "markdown",
   "metadata": {},
   "source": [
    "## 分野"
   ]
  },
  {
   "cell_type": "code",
   "execution_count": 2,
   "metadata": {
    "ExecuteTime": {
     "end_time": "2023-05-03T05:16:37.830315Z",
     "start_time": "2023-05-03T05:16:37.819631Z"
    }
   },
   "outputs": [],
   "source": [
    "RESOLUTION = 1e-06\n",
    "NMIN = 100000\n",
    "\n",
    "_ = pd.read_excel(\n",
    "     SAVE_DIR+f'paper_detail/keywords_in_2021_{RESOLUTION}_{NMIN}_tficf_waltman_name.xlsx', \n",
    "     sheet_name='names'\n",
    " )[['partition','n_1970-2021','n_2016','nameByGPT-4'] + [f'word{i}' for i in range(5)]]\n",
    "keywords = {int(k):v for k,v in _.set_index('partition')['nameByGPT-4'].to_dict().items()}"
   ]
  },
  {
   "cell_type": "code",
   "execution_count": 4,
   "metadata": {
    "ExecuteTime": {
     "end_time": "2023-05-03T05:16:41.744457Z",
     "start_time": "2023-05-03T05:16:41.732803Z"
    }
   },
   "outputs": [
    {
     "data": {
      "text/plain": [
       "{-1: nan,\n",
       " 0: 'Molecular & Cellular Biology',\n",
       " 1: 'Neuropsychiatric Disorders',\n",
       " 2: 'Organic & Inorganic Chemistry',\n",
       " 3: 'Social & Political Sciences',\n",
       " 4: 'Ecology & Evolution',\n",
       " 5: 'Nutrition & Microbiome',\n",
       " 6: 'Nanomaterials & Energy Storage',\n",
       " 7: 'Computer Vision & Security',\n",
       " 8: 'Cardiovascular Medicine',\n",
       " 9: 'Wireless Networks & Security',\n",
       " 10: 'Biomaterials & Orthopedics',\n",
       " 11: 'Fluid Mechanics & Heat Transfer',\n",
       " 12: 'Astronomy & Astrophysics',\n",
       " 13: 'Environmental Science & Technology',\n",
       " 14: 'Information & Computer Science',\n",
       " 15: 'Materials Science & Engineering',\n",
       " 16: 'Plant Science & Stress Responses',\n",
       " 17: 'Quantum Physics & Superconductivity',\n",
       " 18: 'Geology & Tectonics',\n",
       " 19: 'Climate Science & Remote Sensing',\n",
       " 20: 'Gastroenterology & Surgery',\n",
       " 21: 'Respiratory & Critical Care Medicine',\n",
       " 22: 'Power Systems & Smart Grids',\n",
       " 23: 'Structural Engineering & Materials',\n",
       " 24: 'Metamaterials & Antennas',\n",
       " 25: 'Vibration & Material Mechanics',\n",
       " 26: 'Control Systems & Robustness',\n",
       " 27: 'Optics & Photonics',\n",
       " 28: 'Autoimmune & Inflammatory Diseases',\n",
       " 29: 'Healthcare & Medical Education',\n",
       " 30: 'Semiconductor Materials & Devices',\n",
       " 31: 'Wireless Communications & MIMO',\n",
       " 32: 'History & Cultural Studies',\n",
       " 33: 'Operations Research & Logistics',\n",
       " 34: 'Orthopedics & Biomechanics',\n",
       " 35: 'Virology & Vaccines',\n",
       " 36: 'String Theory & Supersymmetry',\n",
       " 37: 'Urology & Pelvic Health',\n",
       " 38: 'Nonlinear Analysis & Fixed Points',\n",
       " 39: 'Infectious Diseases & HIV',\n",
       " 40: 'Ophthalmology & Vision Disorders',\n",
       " 41: 'Neurosurgical Disorders',\n",
       " 42: 'Obstetrics & Gynecology',\n",
       " 43: 'Parasitic Diseases',\n",
       " 44: 'Machining & Manufacturing',\n",
       " 45: 'Plasma Physics & Fusion',\n",
       " 46: 'Classics & Ancient History',\n",
       " 47: 'Laser & Plasma Physics',\n",
       " 48: 'Infectious Ear Diseases',\n",
       " 49: 'Reproductive Health & Cancer',\n",
       " 50: 'Thyroid & Head-Neck Surgery',\n",
       " 51: 'Science & Engineering Education',\n",
       " 52: 'Soft Tissue & Bone Tumors',\n",
       " 53: 'Linguistics & Multilingualism',\n",
       " 54: 'Biomass & Pyrolysis',\n",
       " 55: 'Breast Diseases & Surgery',\n",
       " 56: 'Transportation & Traffic Engineering',\n",
       " 57: 'Statistical Methods & Theory',\n",
       " 58: 'Philosophy & Metaphysics',\n",
       " 59: 'Inherited Blood Disorders',\n",
       " 60: 'Fungal Infections',\n",
       " 61: 'Animal Breeding & Reproduction',\n",
       " 62: 'Scientometrics & Research Ethics',\n",
       " 63: 'Chemical Engineering & Phase Equilibria',\n",
       " 64: 'Polymer Science & Engineering',\n",
       " 65: 'Neurological & Immunological Disorders'}"
      ]
     },
     "execution_count": 4,
     "metadata": {},
     "output_type": "execute_result"
    }
   ],
   "source": [
    "keywords"
   ]
  },
  {
   "cell_type": "code",
   "execution_count": 43,
   "metadata": {
    "ExecuteTime": {
     "end_time": "2023-05-02T05:03:25.522235Z",
     "start_time": "2023-05-02T05:03:25.502969Z"
    }
   },
   "outputs": [
    {
     "data": {
      "text/html": [
       "<div>\n",
       "<style scoped>\n",
       "    .dataframe tbody tr th:only-of-type {\n",
       "        vertical-align: middle;\n",
       "    }\n",
       "\n",
       "    .dataframe tbody tr th {\n",
       "        vertical-align: top;\n",
       "    }\n",
       "\n",
       "    .dataframe thead th {\n",
       "        text-align: right;\n",
       "    }\n",
       "</style>\n",
       "<table border=\"1\" class=\"dataframe\">\n",
       "  <thead>\n",
       "    <tr style=\"text-align: right;\">\n",
       "      <th></th>\n",
       "      <th>partition</th>\n",
       "      <th>n_1970-2021</th>\n",
       "      <th>n_2016</th>\n",
       "      <th>nameByGPT-4</th>\n",
       "      <th>word0</th>\n",
       "      <th>word1</th>\n",
       "      <th>word2</th>\n",
       "      <th>word3</th>\n",
       "      <th>word4</th>\n",
       "    </tr>\n",
       "  </thead>\n",
       "  <tbody>\n",
       "    <tr>\n",
       "      <th>0</th>\n",
       "      <td>-1.0</td>\n",
       "      <td>185330.0</td>\n",
       "      <td>5500.0</td>\n",
       "      <td>NaN</td>\n",
       "      <td>cultivar</td>\n",
       "      <td>new species</td>\n",
       "      <td>exile</td>\n",
       "      <td>intertextuality</td>\n",
       "      <td>onomastics</td>\n",
       "    </tr>\n",
       "    <tr>\n",
       "      <th>1</th>\n",
       "      <td>0.0</td>\n",
       "      <td>8166139.0</td>\n",
       "      <td>307781.0</td>\n",
       "      <td>Molecular &amp; Cellular Biology</td>\n",
       "      <td>oxidative stress</td>\n",
       "      <td>inflammation</td>\n",
       "      <td>autophagy</td>\n",
       "      <td>apoptosis</td>\n",
       "      <td>immunohistochemistry</td>\n",
       "    </tr>\n",
       "    <tr>\n",
       "      <th>2</th>\n",
       "      <td>1.0</td>\n",
       "      <td>5492822.0</td>\n",
       "      <td>228993.0</td>\n",
       "      <td>Neuropsychiatric Disorders</td>\n",
       "      <td>schizophrenia</td>\n",
       "      <td>anxiety</td>\n",
       "      <td>depression</td>\n",
       "      <td>nucleus accumbens</td>\n",
       "      <td>prefrontal cortex</td>\n",
       "    </tr>\n",
       "    <tr>\n",
       "      <th>3</th>\n",
       "      <td>2.0</td>\n",
       "      <td>4389226.0</td>\n",
       "      <td>136514.0</td>\n",
       "      <td>Organic &amp; Inorganic Chemistry</td>\n",
       "      <td>asymmetric catalysis</td>\n",
       "      <td>organocatalysis</td>\n",
       "      <td>cycloaddition</td>\n",
       "      <td>asymmetric synthesis</td>\n",
       "      <td>homogeneous catalysis</td>\n",
       "    </tr>\n",
       "    <tr>\n",
       "      <th>4</th>\n",
       "      <td>3.0</td>\n",
       "      <td>3918221.0</td>\n",
       "      <td>213049.0</td>\n",
       "      <td>Social &amp; Political Sciences</td>\n",
       "      <td>corporate governance</td>\n",
       "      <td>firm performance</td>\n",
       "      <td>corporate social responsibility</td>\n",
       "      <td>monetary policy</td>\n",
       "      <td>foreign direct investment</td>\n",
       "    </tr>\n",
       "    <tr>\n",
       "      <th>...</th>\n",
       "      <td>...</td>\n",
       "      <td>...</td>\n",
       "      <td>...</td>\n",
       "      <td>...</td>\n",
       "      <td>...</td>\n",
       "      <td>...</td>\n",
       "      <td>...</td>\n",
       "      <td>...</td>\n",
       "      <td>...</td>\n",
       "    </tr>\n",
       "    <tr>\n",
       "      <th>62</th>\n",
       "      <td>61.0</td>\n",
       "      <td>125607.0</td>\n",
       "      <td>3052.0</td>\n",
       "      <td>Animal Breeding &amp; Reproduction</td>\n",
       "      <td>superovulation</td>\n",
       "      <td>genetic parameters</td>\n",
       "      <td>beef cattle</td>\n",
       "      <td>semen</td>\n",
       "      <td>progesterone</td>\n",
       "    </tr>\n",
       "    <tr>\n",
       "      <th>63</th>\n",
       "      <td>62.0</td>\n",
       "      <td>121078.0</td>\n",
       "      <td>5314.0</td>\n",
       "      <td>Scientometrics &amp; Research Ethics</td>\n",
       "      <td>altmetrics</td>\n",
       "      <td>plagiarism</td>\n",
       "      <td>scholarly communication</td>\n",
       "      <td>academic dishonesty</td>\n",
       "      <td>academic integrity</td>\n",
       "    </tr>\n",
       "    <tr>\n",
       "      <th>64</th>\n",
       "      <td>63.0</td>\n",
       "      <td>113219.0</td>\n",
       "      <td>3040.0</td>\n",
       "      <td>Chemical Engineering &amp; Phase Equilibria</td>\n",
       "      <td>reactive distillation</td>\n",
       "      <td>equation of state</td>\n",
       "      <td>vapor-liquid equilibria</td>\n",
       "      <td>excess molar volume</td>\n",
       "      <td>co capture</td>\n",
       "    </tr>\n",
       "    <tr>\n",
       "      <th>65</th>\n",
       "      <td>64.0</td>\n",
       "      <td>111779.0</td>\n",
       "      <td>2380.0</td>\n",
       "      <td>Polymer Science &amp; Engineering</td>\n",
       "      <td>compatibilization</td>\n",
       "      <td>blends</td>\n",
       "      <td>isotactic polypropylene</td>\n",
       "      <td>polymer blends</td>\n",
       "      <td>injection molding</td>\n",
       "    </tr>\n",
       "    <tr>\n",
       "      <th>66</th>\n",
       "      <td>65.0</td>\n",
       "      <td>108246.0</td>\n",
       "      <td>3843.0</td>\n",
       "      <td>Neurological &amp; Immunological Disorders</td>\n",
       "      <td>myasthenia gravis</td>\n",
       "      <td>thymoma</td>\n",
       "      <td>varicocele</td>\n",
       "      <td>guillain-barré syndrome</td>\n",
       "      <td>neuromyelitis optica</td>\n",
       "    </tr>\n",
       "  </tbody>\n",
       "</table>\n",
       "<p>67 rows × 9 columns</p>\n",
       "</div>"
      ],
      "text/plain": [
       "    partition  n_1970-2021    n_2016                              nameByGPT-4  \\\n",
       "0        -1.0     185330.0    5500.0                                      NaN   \n",
       "1         0.0    8166139.0  307781.0             Molecular & Cellular Biology   \n",
       "2         1.0    5492822.0  228993.0               Neuropsychiatric Disorders   \n",
       "3         2.0    4389226.0  136514.0            Organic & Inorganic Chemistry   \n",
       "4         3.0    3918221.0  213049.0              Social & Political Sciences   \n",
       "..        ...          ...       ...                                      ...   \n",
       "62       61.0     125607.0    3052.0           Animal Breeding & Reproduction   \n",
       "63       62.0     121078.0    5314.0         Scientometrics & Research Ethics   \n",
       "64       63.0     113219.0    3040.0  Chemical Engineering & Phase Equilibria   \n",
       "65       64.0     111779.0    2380.0            Polymer Science & Engineering   \n",
       "66       65.0     108246.0    3843.0   Neurological & Immunological Disorders   \n",
       "\n",
       "                    word0               word1  \\\n",
       "0                cultivar         new species   \n",
       "1        oxidative stress        inflammation   \n",
       "2           schizophrenia             anxiety   \n",
       "3    asymmetric catalysis     organocatalysis   \n",
       "4    corporate governance    firm performance   \n",
       "..                    ...                 ...   \n",
       "62         superovulation  genetic parameters   \n",
       "63             altmetrics          plagiarism   \n",
       "64  reactive distillation   equation of state   \n",
       "65      compatibilization              blends   \n",
       "66      myasthenia gravis             thymoma   \n",
       "\n",
       "                              word2                    word3  \\\n",
       "0                             exile          intertextuality   \n",
       "1                         autophagy                apoptosis   \n",
       "2                        depression        nucleus accumbens   \n",
       "3                     cycloaddition     asymmetric synthesis   \n",
       "4   corporate social responsibility          monetary policy   \n",
       "..                              ...                      ...   \n",
       "62                      beef cattle                    semen   \n",
       "63          scholarly communication      academic dishonesty   \n",
       "64          vapor-liquid equilibria      excess molar volume   \n",
       "65          isotactic polypropylene           polymer blends   \n",
       "66                       varicocele  guillain-barré syndrome   \n",
       "\n",
       "                        word4  \n",
       "0                  onomastics  \n",
       "1        immunohistochemistry  \n",
       "2           prefrontal cortex  \n",
       "3       homogeneous catalysis  \n",
       "4   foreign direct investment  \n",
       "..                        ...  \n",
       "62               progesterone  \n",
       "63         academic integrity  \n",
       "64                 co capture  \n",
       "65          injection molding  \n",
       "66       neuromyelitis optica  \n",
       "\n",
       "[67 rows x 9 columns]"
      ]
     },
     "execution_count": 43,
     "metadata": {},
     "output_type": "execute_result"
    }
   ],
   "source": [
    "_"
   ]
  },
  {
   "cell_type": "code",
   "execution_count": 14,
   "metadata": {
    "ExecuteTime": {
     "end_time": "2023-05-04T07:18:29.804239Z",
     "start_time": "2023-05-04T07:18:29.799424Z"
    }
   },
   "outputs": [
    {
     "data": {
      "text/plain": [
       "0.0027714802731408734"
      ]
     },
     "execution_count": 14,
     "metadata": {},
     "output_type": "execute_result"
    }
   ],
   "source": [
    "# 分野レベルでノイズになった数\n",
    "185330/_['n_1970-2021'].sum()"
   ]
  },
  {
   "cell_type": "markdown",
   "metadata": {},
   "source": [
    "## トピック"
   ]
  },
  {
   "cell_type": "code",
   "execution_count": 5,
   "metadata": {
    "ExecuteTime": {
     "end_time": "2023-05-04T06:58:13.087297Z",
     "start_time": "2023-05-04T06:58:13.082763Z"
    },
    "execution": {
     "iopub.execute_input": "2023-11-16T13:29:15.639355Z",
     "iopub.status.busy": "2023-11-16T13:29:15.638085Z",
     "iopub.status.idle": "2023-11-16T13:29:15.645573Z",
     "shell.execute_reply": "2023-11-16T13:29:15.643828Z",
     "shell.execute_reply.started": "2023-11-16T13:29:15.639295Z"
    }
   },
   "outputs": [],
   "source": [
    "RESOLUTION = 5e-04\n",
    "NMIN = 1000"
   ]
  },
  {
   "cell_type": "code",
   "execution_count": 13,
   "metadata": {
    "ExecuteTime": {
     "end_time": "2023-05-04T07:18:29.796894Z",
     "start_time": "2023-05-04T07:18:16.757642Z"
    }
   },
   "outputs": [],
   "source": [
    "_ = pd.read_excel(\n",
    "     SAVE_DIR+f'paper_detail/keywords_in_2021_{RESOLUTION}_{NMIN}_tficf_waltman_name.xlsx', \n",
    "     sheet_name='names'\n",
    " )[['partition','n_1970-2021','n_2016'] + [f'word{i}' for i in range(5)]]\n",
    "# keywords = {int(k):v for k,v in _.set_index('partition')['nameByGPT-4'].to_dict().items()}"
   ]
  },
  {
   "cell_type": "code",
   "execution_count": 7,
   "metadata": {
    "ExecuteTime": {
     "end_time": "2023-05-04T07:07:26.523684Z",
     "start_time": "2023-05-04T07:07:26.516458Z"
    }
   },
   "outputs": [
    {
     "data": {
      "text/plain": [
       "0.0028960495855849646"
      ]
     },
     "execution_count": 7,
     "metadata": {},
     "output_type": "execute_result"
    }
   ],
   "source": [
    "# トピックレベルでノイズになった数\n",
    "193660.0/_['n_1970-2021'].sum()"
   ]
  },
  {
   "cell_type": "code",
   "execution_count": 6,
   "metadata": {
    "ExecuteTime": {
     "end_time": "2023-05-04T07:06:52.304284Z",
     "start_time": "2023-05-04T07:06:52.275840Z"
    }
   },
   "outputs": [
    {
     "data": {
      "text/html": [
       "<div>\n",
       "<style scoped>\n",
       "    .dataframe tbody tr th:only-of-type {\n",
       "        vertical-align: middle;\n",
       "    }\n",
       "\n",
       "    .dataframe tbody tr th {\n",
       "        vertical-align: top;\n",
       "    }\n",
       "\n",
       "    .dataframe thead th {\n",
       "        text-align: right;\n",
       "    }\n",
       "</style>\n",
       "<table border=\"1\" class=\"dataframe\">\n",
       "  <thead>\n",
       "    <tr style=\"text-align: right;\">\n",
       "      <th></th>\n",
       "      <th>partition</th>\n",
       "      <th>n_1970-2021</th>\n",
       "      <th>n_2016</th>\n",
       "      <th>word0</th>\n",
       "      <th>word1</th>\n",
       "      <th>word2</th>\n",
       "      <th>word3</th>\n",
       "      <th>word4</th>\n",
       "    </tr>\n",
       "  </thead>\n",
       "  <tbody>\n",
       "    <tr>\n",
       "      <th>0</th>\n",
       "      <td>-1.0</td>\n",
       "      <td>193660.0</td>\n",
       "      <td>5739.0</td>\n",
       "      <td>new species</td>\n",
       "      <td>poetry</td>\n",
       "      <td>cultivar</td>\n",
       "      <td>history</td>\n",
       "      <td>education</td>\n",
       "    </tr>\n",
       "    <tr>\n",
       "      <th>1</th>\n",
       "      <td>0.0</td>\n",
       "      <td>168317.0</td>\n",
       "      <td>3193.0</td>\n",
       "      <td>density functional theory</td>\n",
       "      <td>dft</td>\n",
       "      <td>method mndo</td>\n",
       "      <td>acid power</td>\n",
       "      <td>ab initio calculations</td>\n",
       "    </tr>\n",
       "    <tr>\n",
       "      <th>2</th>\n",
       "      <td>1.0</td>\n",
       "      <td>165883.0</td>\n",
       "      <td>8086.0</td>\n",
       "      <td>technology acceptance model</td>\n",
       "      <td>e-commerce</td>\n",
       "      <td>trust</td>\n",
       "      <td>tam</td>\n",
       "      <td>e-learning</td>\n",
       "    </tr>\n",
       "    <tr>\n",
       "      <th>3</th>\n",
       "      <td>2.0</td>\n",
       "      <td>138371.0</td>\n",
       "      <td>6558.0</td>\n",
       "      <td>adsorption</td>\n",
       "      <td>biosorption</td>\n",
       "      <td>activated carbon</td>\n",
       "      <td>isotherm</td>\n",
       "      <td>heavy metals</td>\n",
       "    </tr>\n",
       "    <tr>\n",
       "      <th>4</th>\n",
       "      <td>3.0</td>\n",
       "      <td>129994.0</td>\n",
       "      <td>6921.0</td>\n",
       "      <td>innovation</td>\n",
       "      <td>open innovation</td>\n",
       "      <td>absorptive capacity</td>\n",
       "      <td>competitiveness</td>\n",
       "      <td>innovation performance</td>\n",
       "    </tr>\n",
       "    <tr>\n",
       "      <th>...</th>\n",
       "      <td>...</td>\n",
       "      <td>...</td>\n",
       "      <td>...</td>\n",
       "      <td>...</td>\n",
       "      <td>...</td>\n",
       "      <td>...</td>\n",
       "      <td>...</td>\n",
       "      <td>...</td>\n",
       "    </tr>\n",
       "    <tr>\n",
       "      <th>15516</th>\n",
       "      <td>15515.0</td>\n",
       "      <td>1000.0</td>\n",
       "      <td>77.0</td>\n",
       "      <td>privacy protection</td>\n",
       "      <td>privacy</td>\n",
       "      <td>video surveillance</td>\n",
       "      <td>face de-identification</td>\n",
       "      <td>de-identification</td>\n",
       "    </tr>\n",
       "    <tr>\n",
       "      <th>15517</th>\n",
       "      <td>15516.0</td>\n",
       "      <td>1000.0</td>\n",
       "      <td>58.0</td>\n",
       "      <td>random walk in random environment</td>\n",
       "      <td>random environment</td>\n",
       "      <td>random walk</td>\n",
       "      <td>stochastic homogenization</td>\n",
       "      <td>random conductance model</td>\n",
       "    </tr>\n",
       "    <tr>\n",
       "      <th>15518</th>\n",
       "      <td>15517.0</td>\n",
       "      <td>1000.0</td>\n",
       "      <td>50.0</td>\n",
       "      <td>disability</td>\n",
       "      <td>poverty</td>\n",
       "      <td>persons with disabilities</td>\n",
       "      <td>people with disabilities</td>\n",
       "      <td>washington group</td>\n",
       "    </tr>\n",
       "    <tr>\n",
       "      <th>15519</th>\n",
       "      <td>15518.0</td>\n",
       "      <td>1000.0</td>\n",
       "      <td>72.0</td>\n",
       "      <td>pim-1</td>\n",
       "      <td>pim1</td>\n",
       "      <td>pim kinase</td>\n",
       "      <td>pim kinases</td>\n",
       "      <td>pim-2</td>\n",
       "    </tr>\n",
       "    <tr>\n",
       "      <th>15520</th>\n",
       "      <td>15519.0</td>\n",
       "      <td>1000.0</td>\n",
       "      <td>26.0</td>\n",
       "      <td>methylglyoxal</td>\n",
       "      <td>glyoxalase i</td>\n",
       "      <td>glyoxalase</td>\n",
       "      <td>glyoxalase ii</td>\n",
       "      <td>glyoxalase-i</td>\n",
       "    </tr>\n",
       "  </tbody>\n",
       "</table>\n",
       "<p>15521 rows × 8 columns</p>\n",
       "</div>"
      ],
      "text/plain": [
       "       partition  n_1970-2021  n_2016                              word0  \\\n",
       "0           -1.0     193660.0  5739.0                        new species   \n",
       "1            0.0     168317.0  3193.0          density functional theory   \n",
       "2            1.0     165883.0  8086.0        technology acceptance model   \n",
       "3            2.0     138371.0  6558.0                         adsorption   \n",
       "4            3.0     129994.0  6921.0                         innovation   \n",
       "...          ...          ...     ...                                ...   \n",
       "15516    15515.0       1000.0    77.0                 privacy protection   \n",
       "15517    15516.0       1000.0    58.0  random walk in random environment   \n",
       "15518    15517.0       1000.0    50.0                         disability   \n",
       "15519    15518.0       1000.0    72.0                              pim-1   \n",
       "15520    15519.0       1000.0    26.0                      methylglyoxal   \n",
       "\n",
       "                    word1                      word2  \\\n",
       "0                  poetry                   cultivar   \n",
       "1                     dft                method mndo   \n",
       "2              e-commerce                      trust   \n",
       "3             biosorption           activated carbon   \n",
       "4         open innovation        absorptive capacity   \n",
       "...                   ...                        ...   \n",
       "15516             privacy         video surveillance   \n",
       "15517  random environment                random walk   \n",
       "15518             poverty  persons with disabilities   \n",
       "15519                pim1                 pim kinase   \n",
       "15520        glyoxalase i                 glyoxalase   \n",
       "\n",
       "                           word3                     word4  \n",
       "0                        history                 education  \n",
       "1                     acid power    ab initio calculations  \n",
       "2                            tam                e-learning  \n",
       "3                       isotherm              heavy metals  \n",
       "4                competitiveness    innovation performance  \n",
       "...                          ...                       ...  \n",
       "15516     face de-identification         de-identification  \n",
       "15517  stochastic homogenization  random conductance model  \n",
       "15518   people with disabilities          washington group  \n",
       "15519                pim kinases                     pim-2  \n",
       "15520              glyoxalase ii              glyoxalase-i  \n",
       "\n",
       "[15521 rows x 8 columns]"
      ]
     },
     "execution_count": 6,
     "metadata": {},
     "output_type": "execute_result"
    }
   ],
   "source": [
    "_"
   ]
  },
  {
   "cell_type": "markdown",
   "metadata": {},
   "source": [
    "# 4分野への圧縮"
   ]
  },
  {
   "cell_type": "markdown",
   "metadata": {},
   "source": [
    "- 論文誌に付与されたasjcを、接頭辞から4分野に圧縮して、その特化係数が最も大きい分野に割り振る"
   ]
  },
  {
   "cell_type": "markdown",
   "metadata": {},
   "source": [
    "## field"
   ]
  },
  {
   "cell_type": "code",
   "execution_count": 27,
   "metadata": {
    "ExecuteTime": {
     "end_time": "2023-05-03T05:47:09.134720Z",
     "start_time": "2023-05-03T05:47:08.942806Z"
    }
   },
   "outputs": [],
   "source": [
    "RESOLUTION = 1e-06\n",
    "NMIN = 100000\n",
    "\n",
    "# RESOLUTION = 5e-04\n",
    "# NMIN = 1000\n",
    "\n",
    "_ = pd.read_excel(\n",
    "     SAVE_DIR+f'paper_detail/keywords_in_2021_{RESOLUTION}_{NMIN}_tficf_waltman_name.xlsx', \n",
    "     sheet_name='names'\n",
    " )[['partition','n_1970-2021','n_2016','nameByGPT-4'] + [f'word{i}' for i in range(5)]]\n",
    "keywords = {int(k):v for k,v in _.set_index('partition')['nameByGPT-4'].to_dict().items()}\n",
    "\n",
    "papers = pd.concat([\n",
    "    pd.read_pickle(SHARE_DIR+f'paper_detail/asjcs.pickle'),\n",
    "    pd.read_pickle(SAVE_DIR+f'paper_detail/partition_in_2021_1e-06_100000_waltman.pickle'),\n",
    "],axis=1).explode('asjcs')"
   ]
  },
  {
   "cell_type": "code",
   "execution_count": 43,
   "metadata": {
    "ExecuteTime": {
     "end_time": "2023-05-03T06:14:27.118119Z",
     "start_time": "2023-05-03T06:14:23.463474Z"
    }
   },
   "outputs": [
    {
     "name": "stdout",
     "output_type": "stream",
     "text": [
      "large_asjc\n",
      " 2    0.507282\n",
      " 0    0.197190\n",
      " 1    0.174926\n",
      " 3    0.113334\n",
      "-1    0.007268\n",
      "dtype: float64\n"
     ]
    }
   ],
   "source": [
    "# https://service.elsevier.com/app/answers/detail/a_id/15181/supporthub/scopus/\n",
    "# https://service.elsevier.com/app/answers/detail/a_id/16205/supporthub/scopus/\n",
    "\n",
    "prefix_health = ['27','29','34','35','36']\n",
    "prefix_life = ['11','13','24','28','30']\n",
    "prefix_phys = ['15','16','17','19','21','22','23','25','26','31']\n",
    "prefix_social = ['12','14','18','20','32','33']\n",
    "\n",
    "prefixs = {i:0 for i in prefix_health}\n",
    "prefixs.update({i:1 for i in prefix_life})\n",
    "prefixs.update({i:2 for i in prefix_phys})\n",
    "prefixs.update({i:3 for i in prefix_social})\n",
    "\n",
    "# 4分野に割り振る\n",
    "papers['large_asjc'] = papers['asjcs'].map(lambda x: prefixs.get(str(x)[:2], -1))\n",
    "\n",
    "asjc_rate = papers.value_counts('large_asjc', normalize=True)\n",
    "print(asjc_rate)"
   ]
  },
  {
   "cell_type": "code",
   "execution_count": 48,
   "metadata": {
    "ExecuteTime": {
     "end_time": "2023-05-03T06:17:17.004240Z",
     "start_time": "2023-05-03T06:16:38.276315Z"
    }
   },
   "outputs": [
    {
     "name": "stdout",
     "output_type": "stream",
     "text": [
      "-1.0 nan 3\n",
      "0.0 Molecular & Cellular Biology 1\n",
      "1.0 Neuropsychiatric Disorders 3\n",
      "2.0 Organic & Inorganic Chemistry 2\n",
      "3.0 Social & Political Sciences 3\n",
      "4.0 Ecology & Evolution 1\n",
      "5.0 Nutrition & Microbiome 1\n",
      "6.0 Nanomaterials & Energy Storage 2\n",
      "7.0 Computer Vision & Security 2\n",
      "8.0 Cardiovascular Medicine 0\n",
      "9.0 Wireless Networks & Security 2\n",
      "10.0 Biomaterials & Orthopedics 0\n",
      "11.0 Fluid Mechanics & Heat Transfer 2\n",
      "12.0 Astronomy & Astrophysics -1\n",
      "13.0 Environmental Science & Technology 2\n",
      "14.0 Information & Computer Science 3\n",
      "15.0 Materials Science & Engineering 2\n",
      "16.0 Plant Science & Stress Responses 1\n",
      "17.0 Quantum Physics & Superconductivity 2\n",
      "18.0 Geology & Tectonics 2\n",
      "19.0 Climate Science & Remote Sensing 2\n",
      "20.0 Gastroenterology & Surgery 0\n",
      "21.0 Respiratory & Critical Care Medicine 0\n",
      "22.0 Power Systems & Smart Grids 2\n",
      "23.0 Structural Engineering & Materials 2\n",
      "24.0 Metamaterials & Antennas 2\n",
      "25.0 Vibration & Material Mechanics 2\n",
      "26.0 Control Systems & Robustness 2\n",
      "27.0 Optics & Photonics 2\n",
      "28.0 Autoimmune & Inflammatory Diseases 0\n",
      "29.0 Healthcare & Medical Education 0\n",
      "30.0 Semiconductor Materials & Devices 2\n",
      "31.0 Wireless Communications & MIMO 2\n",
      "32.0 History & Cultural Studies 3\n",
      "33.0 Operations Research & Logistics 3\n",
      "34.0 Orthopedics & Biomechanics 0\n",
      "35.0 Virology & Vaccines 0\n",
      "36.0 String Theory & Supersymmetry 2\n",
      "37.0 Urology & Pelvic Health 0\n",
      "38.0 Nonlinear Analysis & Fixed Points 2\n",
      "39.0 Infectious Diseases & HIV 0\n",
      "40.0 Ophthalmology & Vision Disorders 0\n",
      "41.0 Neurosurgical Disorders 0\n",
      "42.0 Obstetrics & Gynecology 0\n",
      "43.0 Parasitic Diseases 0\n",
      "44.0 Machining & Manufacturing 2\n",
      "45.0 Plasma Physics & Fusion 2\n",
      "46.0 Classics & Ancient History 3\n",
      "47.0 Laser & Plasma Physics 2\n",
      "48.0 Infectious Ear Diseases 0\n",
      "49.0 Reproductive Health & Cancer 0\n",
      "50.0 Thyroid & Head-Neck Surgery 0\n",
      "51.0 Science & Engineering Education 3\n",
      "52.0 Soft Tissue & Bone Tumors 0\n",
      "53.0 Linguistics & Multilingualism 3\n",
      "54.0 Biomass & Pyrolysis 2\n",
      "55.0 Breast Diseases & Surgery 0\n",
      "56.0 Transportation & Traffic Engineering 3\n",
      "57.0 Statistical Methods & Theory 3\n",
      "58.0 Philosophy & Metaphysics 3\n",
      "59.0 Inherited Blood Disorders 0\n",
      "60.0 Fungal Infections 0\n",
      "61.0 Animal Breeding & Reproduction 1\n",
      "62.0 Scientometrics & Research Ethics -1\n",
      "63.0 Chemical Engineering & Phase Equilibria 2\n",
      "64.0 Polymer Science & Engineering 2\n",
      "65.0 Neurological & Immunological Disorders 0\n"
     ]
    }
   ],
   "source": [
    "pid_to_largefield = {}\n",
    "\n",
    "for pid, df in papers.groupby('partition_1e-06'):\n",
    "    asjc_rate_cluster = df.value_counts('large_asjc', normalize=True)\n",
    "    most_freq_asjc = (asjc_rate_cluster / asjc_rate).sort_values(ascending=False).index[0]\n",
    "    pid_to_largefield[pid] = most_freq_asjc\n",
    "    print(pid, keywords[pid], most_freq_asjc)"
   ]
  },
  {
   "cell_type": "code",
   "execution_count": 49,
   "metadata": {
    "ExecuteTime": {
     "end_time": "2023-05-03T06:18:11.542146Z",
     "start_time": "2023-05-03T06:18:11.535974Z"
    }
   },
   "outputs": [
    {
     "data": {
      "text/plain": [
       "Counter({1: 4, 3: 6, 2: 23, 0: 14, -1: 1})"
      ]
     },
     "execution_count": 49,
     "metadata": {},
     "output_type": "execute_result"
    }
   ],
   "source": [
    "Counter([pid_to_largefield[k] for k in range(48)])"
   ]
  },
  {
   "cell_type": "code",
   "execution_count": 50,
   "metadata": {
    "ExecuteTime": {
     "end_time": "2023-05-03T06:22:20.762066Z",
     "start_time": "2023-05-03T06:22:20.756429Z"
    }
   },
   "outputs": [],
   "source": [
    "# おかしいものは手元で微修正\n",
    "pid_to_largefield[1] = 0\n",
    "pid_to_largefield[12] = 2\n",
    "pid_to_largefield[14] = 2\n",
    "pid_to_largefield[56] = 2\n",
    "pid_to_largefield[57] = 2\n",
    "pid_to_largefield[62] = 3"
   ]
  },
  {
   "cell_type": "code",
   "execution_count": 51,
   "metadata": {
    "ExecuteTime": {
     "end_time": "2023-05-03T06:22:22.864712Z",
     "start_time": "2023-05-03T06:22:22.845559Z"
    }
   },
   "outputs": [],
   "source": [
    "with open(SAVE_DIR+f'paper_detail/partition_to_ASJC_in_2021_{RESOLUTION}_{NMIN}.pickle','wb') as f:\n",
    "    pickle.dump(pid_to_largefield, f)"
   ]
  },
  {
   "cell_type": "markdown",
   "metadata": {},
   "source": [
    "## topic"
   ]
  },
  {
   "cell_type": "code",
   "execution_count": 2,
   "metadata": {
    "ExecuteTime": {
     "end_time": "2023-05-03T05:47:09.134720Z",
     "start_time": "2023-05-03T05:47:08.942806Z"
    },
    "execution": {
     "iopub.execute_input": "2023-11-29T05:59:42.864236Z",
     "iopub.status.busy": "2023-11-29T05:59:42.863809Z",
     "iopub.status.idle": "2023-11-29T06:01:54.465437Z",
     "shell.execute_reply": "2023-11-29T06:01:54.464244Z",
     "shell.execute_reply.started": "2023-11-29T05:59:42.864218Z"
    }
   },
   "outputs": [],
   "source": [
    "RESOLUTION = 5e-04\n",
    "NMIN = 1000\n",
    "\n",
    "papers = pd.concat([\n",
    "    pd.read_pickle(SHARE_DIR+f'paper_detail/asjcs.pickle'),\n",
    "    pd.read_pickle(SAVE_DIR+f'paper_detail/partition_in_2021_0.0005_1000_waltman.pickle'),\n",
    "],axis=1).explode('asjcs')"
   ]
  },
  {
   "cell_type": "code",
   "execution_count": 3,
   "metadata": {
    "ExecuteTime": {
     "end_time": "2023-05-03T06:14:27.118119Z",
     "start_time": "2023-05-03T06:14:23.463474Z"
    },
    "execution": {
     "iopub.execute_input": "2023-11-29T06:01:54.467118Z",
     "iopub.status.busy": "2023-11-29T06:01:54.466913Z",
     "iopub.status.idle": "2023-11-29T06:02:58.395101Z",
     "shell.execute_reply": "2023-11-29T06:02:58.394187Z",
     "shell.execute_reply.started": "2023-11-29T06:01:54.467099Z"
    }
   },
   "outputs": [
    {
     "name": "stdout",
     "output_type": "stream",
     "text": [
      "large_asjc\n",
      " 2    0.507282\n",
      " 0    0.197190\n",
      " 1    0.174926\n",
      " 3    0.113334\n",
      "-1    0.007268\n",
      "dtype: float64\n"
     ]
    }
   ],
   "source": [
    "# https://service.elsevier.com/app/answers/detail/a_id/15181/supporthub/scopus/\n",
    "# https://service.elsevier.com/app/answers/detail/a_id/16205/supporthub/scopus/\n",
    "\n",
    "prefix_health = ['27','29','34','35','36']\n",
    "prefix_life = ['11','13','24','28','30']\n",
    "prefix_phys = ['15','16','17','19','21','22','23','25','26','31']\n",
    "prefix_social = ['12','14','18','20','32','33']\n",
    "\n",
    "prefixs = {i:0 for i in prefix_health}\n",
    "prefixs.update({i:1 for i in prefix_life})\n",
    "prefixs.update({i:2 for i in prefix_phys})\n",
    "prefixs.update({i:3 for i in prefix_social})\n",
    "\n",
    "# 4分野に割り振る\n",
    "papers['large_asjc'] = papers['asjcs'].map(lambda x: prefixs.get(str(x)[:2], -1))\n",
    "\n",
    "asjc_rate = papers.value_counts('large_asjc', normalize=True)\n",
    "print(asjc_rate)"
   ]
  },
  {
   "cell_type": "code",
   "execution_count": 6,
   "metadata": {
    "ExecuteTime": {
     "end_time": "2023-05-03T06:17:17.004240Z",
     "start_time": "2023-05-03T06:16:38.276315Z"
    },
    "execution": {
     "iopub.execute_input": "2023-11-28T05:08:19.877444Z",
     "iopub.status.busy": "2023-11-28T05:08:19.877089Z",
     "iopub.status.idle": "2023-11-28T05:08:59.814047Z",
     "shell.execute_reply": "2023-11-28T05:08:59.812167Z",
     "shell.execute_reply.started": "2023-11-28T05:08:19.877425Z"
    }
   },
   "outputs": [],
   "source": [
    "pid_to_largefield = {}\n",
    "\n",
    "for pid, df in papers.groupby('partition_0.0005'):\n",
    "    asjc_rate_cluster = df.value_counts('large_asjc', normalize=True)\n",
    "    most_freq_asjc = (asjc_rate_cluster / asjc_rate).sort_values(ascending=False).index[0]\n",
    "    pid_to_largefield[pid] = most_freq_asjc\n",
    "    # print(pid, keywords[pid], most_freq_asjc)"
   ]
  },
  {
   "cell_type": "code",
   "execution_count": 7,
   "metadata": {
    "execution": {
     "iopub.execute_input": "2023-11-28T05:08:59.816516Z",
     "iopub.status.busy": "2023-11-28T05:08:59.816252Z",
     "iopub.status.idle": "2023-11-28T05:08:59.869854Z",
     "shell.execute_reply": "2023-11-28T05:08:59.869038Z",
     "shell.execute_reply.started": "2023-11-28T05:08:59.816492Z"
    }
   },
   "outputs": [],
   "source": [
    "with open(SAVE_DIR+f'paper_detail/partition_to_ASJC_in_2021_{RESOLUTION}_{NMIN}.pickle','wb') as f:\n",
    "    pickle.dump(pid_to_largefield, f)"
   ]
  }
 ],
 "metadata": {
  "kernelspec": {
   "display_name": "Python 3 (ipykernel)",
   "language": "python",
   "name": "python3"
  },
  "language_info": {
   "codemirror_mode": {
    "name": "ipython",
    "version": 3
   },
   "file_extension": ".py",
   "mimetype": "text/x-python",
   "name": "python",
   "nbconvert_exporter": "python",
   "pygments_lexer": "ipython3",
   "version": "3.10.12"
  },
  "toc": {
   "base_numbering": 1,
   "nav_menu": {},
   "number_sections": true,
   "sideBar": true,
   "skip_h1_title": false,
   "title_cell": "Table of Contents",
   "title_sidebar": "Contents",
   "toc_cell": true,
   "toc_position": {
    "height": "calc(100% - 180px)",
    "left": "10px",
    "top": "150px",
    "width": "396.875px"
   },
   "toc_section_display": true,
   "toc_window_display": true
  }
 },
 "nbformat": 4,
 "nbformat_minor": 4
}
