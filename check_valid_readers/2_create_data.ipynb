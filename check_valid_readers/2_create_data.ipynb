{
 "cells": [
  {
   "cell_type": "code",
   "execution_count": 1,
   "metadata": {
    "ExecuteTime": {
     "end_time": "2023-06-11T11:33:10.683969Z",
     "start_time": "2023-06-11T11:33:10.673549Z"
    },
    "execution": {
     "iopub.execute_input": "2024-02-19T12:39:07.605069Z",
     "iopub.status.busy": "2024-02-19T12:39:07.604190Z",
     "iopub.status.idle": "2024-02-19T12:39:08.220896Z",
     "shell.execute_reply": "2024-02-19T12:39:08.220022Z",
     "shell.execute_reply.started": "2024-02-19T12:39:07.604998Z"
    },
    "tags": []
   },
   "outputs": [],
   "source": [
    "import configparser\n",
    "import math\n",
    "from matplotlib import pyplot as plt\n",
    "import numpy as np\n",
    "import pandas as pd\n",
    "import pickle\n",
    "import os\n",
    "\n",
    "from tqdm import tqdm\n",
    "\n",
    "config = configparser.ConfigParser()\n",
    "config.read('../config.ini', encoding='utf-8')\n",
    "SAVE_DIR = config.get('settings','SAVE_DIR')\n",
    "WORK_DIR = config.get('settings','WORK_DIR')\n",
    "SHARE_DIR = config.get('settings','SHARE_DIR')\n",
    "\n",
    "settings = configparser.ConfigParser()\n",
    "settings.read('../settings.ini', encoding='utf-8')\n",
    "MIN_YEAR = int(settings.get('experiment','MIN_YEAR'))\n",
    "MAX_YEAR = int(settings.get('experiment','MAX_YEAR'))\n",
    "RESOLUTION = float(settings.get('experiment','RESOLUTION'))\n",
    "NMIN = int(settings.get('experiment','NMIN'))"
   ]
  },
  {
   "cell_type": "code",
   "execution_count": 3,
   "metadata": {
    "execution": {
     "iopub.execute_input": "2024-02-19T12:39:15.042373Z",
     "iopub.status.busy": "2024-02-19T12:39:15.042055Z",
     "iopub.status.idle": "2024-02-19T12:39:15.047205Z",
     "shell.execute_reply": "2024-02-19T12:39:15.046035Z",
     "shell.execute_reply.started": "2024-02-19T12:39:15.042352Z"
    }
   },
   "outputs": [],
   "source": [
    "# os.makedirs('/disks/qnap2/data/t-miura/2023_readership/final_paper/check1_valid_readers')"
   ]
  },
  {
   "cell_type": "markdown",
   "metadata": {},
   "source": [
    "# 2021 valid reader"
   ]
  },
  {
   "cell_type": "code",
   "execution_count": 6,
   "metadata": {
    "ExecuteTime": {
     "end_time": "2023-06-08T07:38:14.408548Z",
     "start_time": "2023-06-08T07:38:03.535387Z"
    },
    "execution": {
     "iopub.execute_input": "2024-02-19T12:41:18.951445Z",
     "iopub.status.busy": "2024-02-19T12:41:18.951060Z",
     "iopub.status.idle": "2024-02-19T12:41:35.150701Z",
     "shell.execute_reply": "2024-02-19T12:41:35.149207Z",
     "shell.execute_reply.started": "2024-02-19T12:41:18.951426Z"
    }
   },
   "outputs": [
    {
     "name": "stdout",
     "output_type": "stream",
     "text": [
      "(2290742, 34)\n",
      "2290742\n",
      "2290742\n",
      "2184682\n"
     ]
    }
   ],
   "source": [
    "papers_2016_validread = pd.read_pickle('/disks/qnap2/data/t-miura/2023_readership/final_paper/papers_2016_all_validread.pickle')\n",
    "\n",
    "print(papers_2016_validread.shape)\n",
    "_ = papers_2016_validread[papers_2016_validread['cumulative_reader_2018'].notna()]\n",
    "print(len(_))\n",
    "_ = _[_['cumulative_reader_2021'].notna()]\n",
    "print(len(_)) # 85.4%にreadershipがある\n",
    "\n",
    "# check_validで新規追加、2018年にreadがなければ除く\n",
    "_ = _[_['cumulative_reader_2021']!=0].copy()\n",
    "print(len(_))\n",
    "\n",
    "_.to_pickle('/disks/qnap2/data/t-miura/2023_readership/final_paper/check1_valid_readers/papers_2016_all_validread.pickle')"
   ]
  },
  {
   "cell_type": "markdown",
   "metadata": {},
   "source": [
    "# Matching"
   ]
  },
  {
   "cell_type": "code",
   "execution_count": 7,
   "metadata": {
    "ExecuteTime": {
     "end_time": "2023-06-04T02:46:40.344783Z",
     "start_time": "2023-06-04T02:46:35.467132Z"
    },
    "execution": {
     "iopub.execute_input": "2024-02-19T12:41:35.153029Z",
     "iopub.status.busy": "2024-02-19T12:41:35.152748Z",
     "iopub.status.idle": "2024-02-19T12:41:42.018510Z",
     "shell.execute_reply": "2024-02-19T12:41:42.017180Z",
     "shell.execute_reply.started": "2024-02-19T12:41:35.153005Z"
    },
    "tags": []
   },
   "outputs": [],
   "source": [
    "papers_2016_validread = pd.read_pickle('/disks/qnap2/data/t-miura/2023_readership/final_paper/check1_valid_readers/papers_2016_all_validread.pickle')"
   ]
  },
  {
   "cell_type": "markdown",
   "metadata": {},
   "source": [
    "## citation + field"
   ]
  },
  {
   "cell_type": "code",
   "execution_count": 8,
   "metadata": {
    "execution": {
     "iopub.execute_input": "2024-02-19T12:41:42.019514Z",
     "iopub.status.busy": "2024-02-19T12:41:42.019362Z",
     "iopub.status.idle": "2024-02-19T12:42:53.095576Z",
     "shell.execute_reply": "2024-02-19T12:42:53.094595Z",
     "shell.execute_reply.started": "2024-02-19T12:41:42.019501Z"
    },
    "tags": []
   },
   "outputs": [
    {
     "name": "stderr",
     "output_type": "stream",
     "text": [
      "  1%|█▋                                                                                                                | 1/67 [00:00<00:51,  1.28it/s]"
     ]
    },
    {
     "name": "stdout",
     "output_type": "stream",
     "text": [
      "-1.0 0 0 0\n",
      "0.0 5551 22663 228302\n"
     ]
    },
    {
     "name": "stderr",
     "output_type": "stream",
     "text": [
      "  3%|███▍                                                                                                              | 2/67 [00:02<01:22,  1.26s/it]"
     ]
    },
    {
     "name": "stdout",
     "output_type": "stream",
     "text": [
      "1.0 4310 15822 158446\n"
     ]
    },
    {
     "name": "stderr",
     "output_type": "stream",
     "text": [
      "  4%|█████                                                                                                             | 3/67 [00:03<01:27,  1.36s/it]"
     ]
    },
    {
     "name": "stdout",
     "output_type": "stream",
     "text": [
      "2.0 2381 10662 104578\n"
     ]
    },
    {
     "name": "stderr",
     "output_type": "stream",
     "text": [
      "  6%|██████▊                                                                                                           | 4/67 [00:05<01:24,  1.34s/it]"
     ]
    },
    {
     "name": "stdout",
     "output_type": "stream",
     "text": [
      "3.0 4338 11169 112515\n"
     ]
    },
    {
     "name": "stderr",
     "output_type": "stream",
     "text": [
      "  7%|████████▌                                                                                                         | 5/67 [00:06<01:23,  1.35s/it]"
     ]
    },
    {
     "name": "stdout",
     "output_type": "stream",
     "text": [
      "4.0 2675 9490 98575\n"
     ]
    },
    {
     "name": "stderr",
     "output_type": "stream",
     "text": [
      "  9%|██████████▏                                                                                                       | 6/67 [00:07<01:20,  1.33s/it]"
     ]
    },
    {
     "name": "stdout",
     "output_type": "stream",
     "text": [
      "5.0 2704 8328 84463\n"
     ]
    },
    {
     "name": "stderr",
     "output_type": "stream",
     "text": [
      " 10%|███████████▉                                                                                                      | 7/67 [00:09<01:19,  1.33s/it]"
     ]
    },
    {
     "name": "stdout",
     "output_type": "stream",
     "text": [
      "6.0 2017 10612 103750\n"
     ]
    },
    {
     "name": "stderr",
     "output_type": "stream",
     "text": [
      " 12%|█████████████▌                                                                                                    | 8/67 [00:10<01:19,  1.35s/it]"
     ]
    },
    {
     "name": "stdout",
     "output_type": "stream",
     "text": [
      "7.0 2168 7480 76543\n"
     ]
    },
    {
     "name": "stderr",
     "output_type": "stream",
     "text": [
      " 13%|███████████████▎                                                                                                  | 9/67 [00:11<01:16,  1.32s/it]"
     ]
    },
    {
     "name": "stdout",
     "output_type": "stream",
     "text": [
      "8.0 1027 4762 45811\n"
     ]
    },
    {
     "name": "stderr",
     "output_type": "stream",
     "text": [
      " 15%|████████████████▊                                                                                                | 10/67 [00:12<01:11,  1.26s/it]"
     ]
    },
    {
     "name": "stdout",
     "output_type": "stream",
     "text": [
      "9.0 1601 5163 54470\n"
     ]
    },
    {
     "name": "stderr",
     "output_type": "stream",
     "text": [
      " 16%|██████████████████▌                                                                                              | 11/67 [00:14<01:08,  1.22s/it]"
     ]
    },
    {
     "name": "stdout",
     "output_type": "stream",
     "text": [
      "10.0 1497 4592 46743\n"
     ]
    },
    {
     "name": "stderr",
     "output_type": "stream",
     "text": [
      " 18%|████████████████████▏                                                                                            | 12/67 [00:15<01:07,  1.23s/it]"
     ]
    },
    {
     "name": "stdout",
     "output_type": "stream",
     "text": [
      "11.0 1296 4503 40948\n"
     ]
    },
    {
     "name": "stderr",
     "output_type": "stream",
     "text": [
      " 19%|█████████████████████▉                                                                                           | 13/67 [00:16<01:04,  1.20s/it]"
     ]
    },
    {
     "name": "stdout",
     "output_type": "stream",
     "text": [
      "12.0 692 3513 29529\n"
     ]
    },
    {
     "name": "stderr",
     "output_type": "stream",
     "text": [
      " 21%|███████████████████████▌                                                                                         | 14/67 [00:17<01:01,  1.16s/it]"
     ]
    },
    {
     "name": "stdout",
     "output_type": "stream",
     "text": [
      "13.0 998 3995 38208\n"
     ]
    },
    {
     "name": "stderr",
     "output_type": "stream",
     "text": [
      " 22%|█████████████████████████▎                                                                                       | 15/67 [00:18<00:59,  1.15s/it]"
     ]
    },
    {
     "name": "stdout",
     "output_type": "stream",
     "text": [
      "14.0 1245 4218 41826\n"
     ]
    },
    {
     "name": "stderr",
     "output_type": "stream",
     "text": [
      " 24%|██████████████████████████▉                                                                                      | 16/67 [00:19<00:58,  1.14s/it]"
     ]
    },
    {
     "name": "stdout",
     "output_type": "stream",
     "text": [
      "15.0 1127 3331 30045\n"
     ]
    },
    {
     "name": "stderr",
     "output_type": "stream",
     "text": [
      " 25%|████████████████████████████▋                                                                                    | 17/67 [00:20<00:55,  1.12s/it]"
     ]
    },
    {
     "name": "stdout",
     "output_type": "stream",
     "text": [
      "16.0 971 3289 32621\n"
     ]
    },
    {
     "name": "stderr",
     "output_type": "stream",
     "text": [
      " 27%|██████████████████████████████▎                                                                                  | 18/67 [00:21<00:54,  1.11s/it]"
     ]
    },
    {
     "name": "stdout",
     "output_type": "stream",
     "text": [
      "17.0 443 2640 24522\n"
     ]
    },
    {
     "name": "stderr",
     "output_type": "stream",
     "text": [
      " 28%|████████████████████████████████                                                                                 | 19/67 [00:22<00:52,  1.09s/it]"
     ]
    },
    {
     "name": "stdout",
     "output_type": "stream",
     "text": [
      "18.0 841 2993 27233\n"
     ]
    },
    {
     "name": "stderr",
     "output_type": "stream",
     "text": [
      " 30%|█████████████████████████████████▋                                                                               | 20/67 [00:23<00:50,  1.07s/it]"
     ]
    },
    {
     "name": "stdout",
     "output_type": "stream",
     "text": [
      "19.0 804 3294 31277\n"
     ]
    },
    {
     "name": "stderr",
     "output_type": "stream",
     "text": [
      " 33%|█████████████████████████████████████                                                                            | 22/67 [00:26<00:47,  1.05s/it]"
     ]
    },
    {
     "name": "stdout",
     "output_type": "stream",
     "text": [
      "20.0 633 2422 22335\n"
     ]
    },
    {
     "name": "stderr",
     "output_type": "stream",
     "text": [
      " 34%|██████████████████████████████████████▊                                                                          | 23/67 [00:27<00:45,  1.03s/it]"
     ]
    },
    {
     "name": "stdout",
     "output_type": "stream",
     "text": [
      "21.0 579 2380 22402\n",
      "22.0 790 4040 36460\n"
     ]
    },
    {
     "name": "stderr",
     "output_type": "stream",
     "text": [
      " 36%|████████████████████████████████████████▍                                                                        | 24/67 [00:28<00:44,  1.04s/it]"
     ]
    },
    {
     "name": "stdout",
     "output_type": "stream",
     "text": [
      "23.0 809 2873 23212\n"
     ]
    },
    {
     "name": "stderr",
     "output_type": "stream",
     "text": [
      " 39%|███████████████████████████████████████████▊                                                                     | 26/67 [00:30<00:42,  1.04s/it]"
     ]
    },
    {
     "name": "stdout",
     "output_type": "stream",
     "text": [
      "24.0 606 2825 25166\n",
      "25.0 604 2198 18207\n"
     ]
    },
    {
     "name": "stderr",
     "output_type": "stream",
     "text": [
      " 42%|███████████████████████████████████████████████▏                                                                 | 28/67 [00:32<00:39,  1.02s/it]"
     ]
    },
    {
     "name": "stdout",
     "output_type": "stream",
     "text": [
      "26.0 491 2113 19131\n"
     ]
    },
    {
     "name": "stderr",
     "output_type": "stream",
     "text": [
      " 43%|████████████████████████████████████████████████▉                                                                | 29/67 [00:33<00:38,  1.01s/it]"
     ]
    },
    {
     "name": "stdout",
     "output_type": "stream",
     "text": [
      "27.0 490 1770 16305\n"
     ]
    },
    {
     "name": "stderr",
     "output_type": "stream",
     "text": [
      " 45%|██████████████████████████████████████████████████▌                                                              | 30/67 [00:34<00:37,  1.01s/it]"
     ]
    },
    {
     "name": "stdout",
     "output_type": "stream",
     "text": [
      "28.0 471 1530 14083\n"
     ]
    },
    {
     "name": "stderr",
     "output_type": "stream",
     "text": [
      " 46%|████████████████████████████████████████████████████▎                                                            | 31/67 [00:35<00:36,  1.00s/it]"
     ]
    },
    {
     "name": "stdout",
     "output_type": "stream",
     "text": [
      "29.0 578 1541 16480\n"
     ]
    },
    {
     "name": "stderr",
     "output_type": "stream",
     "text": [
      " 48%|█████████████████████████████████████████████████████▉                                                           | 32/67 [00:36<00:34,  1.02it/s]"
     ]
    },
    {
     "name": "stdout",
     "output_type": "stream",
     "text": [
      "30.0 350 1281 12694\n"
     ]
    },
    {
     "name": "stderr",
     "output_type": "stream",
     "text": [
      " 49%|███████████████████████████████████████████████████████▋                                                         | 33/67 [00:37<00:33,  1.02it/s]"
     ]
    },
    {
     "name": "stdout",
     "output_type": "stream",
     "text": [
      "31.0 376 2255 19793\n"
     ]
    },
    {
     "name": "stderr",
     "output_type": "stream",
     "text": [
      " 51%|█████████████████████████████████████████████████████████▎                                                       | 34/67 [00:38<00:31,  1.05it/s]"
     ]
    },
    {
     "name": "stdout",
     "output_type": "stream",
     "text": [
      "32.0 920 981 11829\n"
     ]
    },
    {
     "name": "stderr",
     "output_type": "stream",
     "text": [
      " 52%|███████████████████████████████████████████████████████████                                                      | 35/67 [00:39<00:31,  1.03it/s]"
     ]
    },
    {
     "name": "stdout",
     "output_type": "stream",
     "text": [
      "33.0 517 1971 17455\n"
     ]
    },
    {
     "name": "stderr",
     "output_type": "stream",
     "text": [
      " 54%|████████████████████████████████████████████████████████████▋                                                    | 36/67 [00:40<00:30,  1.02it/s]"
     ]
    },
    {
     "name": "stdout",
     "output_type": "stream",
     "text": [
      "34.0 496 1686 16506\n",
      "35.0 359 1271 12608\n"
     ]
    },
    {
     "name": "stderr",
     "output_type": "stream",
     "text": [
      " 57%|████████████████████████████████████████████████████████████████                                                 | 38/67 [00:42<00:29,  1.00s/it]"
     ]
    },
    {
     "name": "stdout",
     "output_type": "stream",
     "text": [
      "36.0 385 1007 9005\n"
     ]
    },
    {
     "name": "stderr",
     "output_type": "stream",
     "text": [
      " 58%|█████████████████████████████████████████████████████████████████▊                                               | 39/67 [00:43<00:27,  1.01it/s]"
     ]
    },
    {
     "name": "stdout",
     "output_type": "stream",
     "text": [
      "37.0 340 1327 12607\n"
     ]
    },
    {
     "name": "stderr",
     "output_type": "stream",
     "text": [
      " 60%|███████████████████████████████████████████████████████████████████▍                                             | 40/67 [00:44<00:26,  1.01it/s]"
     ]
    },
    {
     "name": "stdout",
     "output_type": "stream",
     "text": [
      "38.0 440 1283 10419\n"
     ]
    },
    {
     "name": "stderr",
     "output_type": "stream",
     "text": [
      " 61%|█████████████████████████████████████████████████████████████████████▏                                           | 41/67 [00:45<00:25,  1.02it/s]"
     ]
    },
    {
     "name": "stdout",
     "output_type": "stream",
     "text": [
      "39.0 263 1200 11434\n"
     ]
    },
    {
     "name": "stderr",
     "output_type": "stream",
     "text": [
      " 63%|██████████████████████████████████████████████████████████████████████▊                                          | 42/67 [00:45<00:24,  1.02it/s]"
     ]
    },
    {
     "name": "stdout",
     "output_type": "stream",
     "text": [
      "40.0 340 1026 10359\n"
     ]
    },
    {
     "name": "stderr",
     "output_type": "stream",
     "text": [
      " 64%|████████████████████████████████████████████████████████████████████████▌                                        | 43/67 [00:46<00:23,  1.03it/s]"
     ]
    },
    {
     "name": "stdout",
     "output_type": "stream",
     "text": [
      "41.0 295 864 9127\n"
     ]
    },
    {
     "name": "stderr",
     "output_type": "stream",
     "text": [
      " 66%|██████████████████████████████████████████████████████████████████████████▏                                      | 44/67 [00:47<00:22,  1.04it/s]"
     ]
    },
    {
     "name": "stdout",
     "output_type": "stream",
     "text": [
      "42.0 268 829 8076\n"
     ]
    },
    {
     "name": "stderr",
     "output_type": "stream",
     "text": [
      " 67%|███████████████████████████████████████████████████████████████████████████▉                                     | 45/67 [00:48<00:21,  1.04it/s]"
     ]
    },
    {
     "name": "stdout",
     "output_type": "stream",
     "text": [
      "43.0 259 797 7756\n"
     ]
    },
    {
     "name": "stderr",
     "output_type": "stream",
     "text": [
      " 69%|█████████████████████████████████████████████████████████████████████████████▌                                   | 46/67 [00:49<00:20,  1.03it/s]"
     ]
    },
    {
     "name": "stdout",
     "output_type": "stream",
     "text": [
      "44.0 390 1144 9773\n"
     ]
    },
    {
     "name": "stderr",
     "output_type": "stream",
     "text": [
      " 70%|███████████████████████████████████████████████████████████████████████████████▎                                 | 47/67 [00:50<00:19,  1.04it/s]"
     ]
    },
    {
     "name": "stdout",
     "output_type": "stream",
     "text": [
      "45.0 227 849 7907\n"
     ]
    },
    {
     "name": "stderr",
     "output_type": "stream",
     "text": [
      " 72%|████████████████████████████████████████████████████████████████████████████████▉                                | 48/67 [00:51<00:17,  1.08it/s]"
     ]
    },
    {
     "name": "stdout",
     "output_type": "stream",
     "text": [
      "46.0 250 273 4416\n"
     ]
    },
    {
     "name": "stderr",
     "output_type": "stream",
     "text": [
      " 73%|██████████████████████████████████████████████████████████████████████████████████▋                              | 49/67 [00:52<00:16,  1.08it/s]"
     ]
    },
    {
     "name": "stdout",
     "output_type": "stream",
     "text": [
      "47.0 230 885 7118\n"
     ]
    },
    {
     "name": "stderr",
     "output_type": "stream",
     "text": [
      " 75%|████████████████████████████████████████████████████████████████████████████████████▎                            | 50/67 [00:53<00:15,  1.08it/s]"
     ]
    },
    {
     "name": "stdout",
     "output_type": "stream",
     "text": [
      "48.0 163 542 4863\n"
     ]
    },
    {
     "name": "stderr",
     "output_type": "stream",
     "text": [
      " 76%|██████████████████████████████████████████████████████████████████████████████████████                           | 51/67 [00:54<00:15,  1.06it/s]"
     ]
    },
    {
     "name": "stdout",
     "output_type": "stream",
     "text": [
      "49.0 198 584 6132\n"
     ]
    },
    {
     "name": "stderr",
     "output_type": "stream",
     "text": [
      " 78%|███████████████████████████████████████████████████████████████████████████████████████▋                         | 52/67 [00:55<00:14,  1.06it/s]"
     ]
    },
    {
     "name": "stdout",
     "output_type": "stream",
     "text": [
      "50.0 180 596 5687\n"
     ]
    },
    {
     "name": "stderr",
     "output_type": "stream",
     "text": [
      " 79%|█████████████████████████████████████████████████████████████████████████████████████████▍                       | 53/67 [00:56<00:13,  1.06it/s]"
     ]
    },
    {
     "name": "stdout",
     "output_type": "stream",
     "text": [
      "51.0 264 439 4446\n"
     ]
    },
    {
     "name": "stderr",
     "output_type": "stream",
     "text": [
      " 81%|███████████████████████████████████████████████████████████████████████████████████████████                      | 54/67 [00:57<00:12,  1.07it/s]"
     ]
    },
    {
     "name": "stdout",
     "output_type": "stream",
     "text": [
      "52.0 189 478 4675\n"
     ]
    },
    {
     "name": "stderr",
     "output_type": "stream",
     "text": [
      " 82%|████████████████████████████████████████████████████████████████████████████████████████████▊                    | 55/67 [00:58<00:11,  1.08it/s]"
     ]
    },
    {
     "name": "stdout",
     "output_type": "stream",
     "text": [
      "53.0 220 427 4492\n"
     ]
    },
    {
     "name": "stderr",
     "output_type": "stream",
     "text": [
      " 84%|██████████████████████████████████████████████████████████████████████████████████████████████▍                  | 56/67 [00:59<00:10,  1.07it/s]"
     ]
    },
    {
     "name": "stdout",
     "output_type": "stream",
     "text": [
      "54.0 167 637 5472\n"
     ]
    },
    {
     "name": "stderr",
     "output_type": "stream",
     "text": [
      " 85%|████████████████████████████████████████████████████████████████████████████████████████████████▏                | 57/67 [01:00<00:09,  1.07it/s]"
     ]
    },
    {
     "name": "stdout",
     "output_type": "stream",
     "text": [
      "55.0 147 500 4939\n"
     ]
    },
    {
     "name": "stderr",
     "output_type": "stream",
     "text": [
      " 87%|█████████████████████████████████████████████████████████████████████████████████████████████████▊               | 58/67 [01:01<00:08,  1.06it/s]"
     ]
    },
    {
     "name": "stdout",
     "output_type": "stream",
     "text": [
      "56.0 226 638 6350\n"
     ]
    },
    {
     "name": "stderr",
     "output_type": "stream",
     "text": [
      " 88%|███████████████████████████████████████████████████████████████████████████████████████████████████▌             | 59/67 [01:01<00:07,  1.07it/s]"
     ]
    },
    {
     "name": "stdout",
     "output_type": "stream",
     "text": [
      "57.0 165 365 3741\n"
     ]
    },
    {
     "name": "stderr",
     "output_type": "stream",
     "text": [
      " 90%|█████████████████████████████████████████████████████████████████████████████████████████████████████▏           | 60/67 [01:02<00:06,  1.08it/s]"
     ]
    },
    {
     "name": "stdout",
     "output_type": "stream",
     "text": [
      "58.0 196 297 3165\n"
     ]
    },
    {
     "name": "stderr",
     "output_type": "stream",
     "text": [
      " 91%|██████████████████████████████████████████████████████████████████████████████████████████████████████▉          | 61/67 [01:03<00:05,  1.09it/s]"
     ]
    },
    {
     "name": "stdout",
     "output_type": "stream",
     "text": [
      "59.0 69 277 2696\n"
     ]
    },
    {
     "name": "stderr",
     "output_type": "stream",
     "text": [
      " 93%|████████████████████████████████████████████████████████████████████████████████████████████████████████▌        | 62/67 [01:04<00:04,  1.10it/s]"
     ]
    },
    {
     "name": "stdout",
     "output_type": "stream",
     "text": [
      "60.0 86 292 2738\n"
     ]
    },
    {
     "name": "stderr",
     "output_type": "stream",
     "text": [
      " 94%|██████████████████████████████████████████████████████████████████████████████████████████████████████████▎      | 63/67 [01:05<00:03,  1.11it/s]"
     ]
    },
    {
     "name": "stdout",
     "output_type": "stream",
     "text": [
      "61.0 90 195 1683\n"
     ]
    },
    {
     "name": "stderr",
     "output_type": "stream",
     "text": [
      " 96%|███████████████████████████████████████████████████████████████████████████████████████████████████████████▉     | 64/67 [01:06<00:02,  1.11it/s]"
     ]
    },
    {
     "name": "stdout",
     "output_type": "stream",
     "text": [
      "62.0 97 313 3056\n"
     ]
    },
    {
     "name": "stderr",
     "output_type": "stream",
     "text": [
      " 97%|█████████████████████████████████████████████████████████████████████████████████████████████████████████████▋   | 65/67 [01:07<00:01,  1.12it/s]"
     ]
    },
    {
     "name": "stdout",
     "output_type": "stream",
     "text": [
      "63.0 78 185 1894\n"
     ]
    },
    {
     "name": "stderr",
     "output_type": "stream",
     "text": [
      " 99%|███████████████████████████████████████████████████████████████████████████████████████████████████████████████▎ | 66/67 [01:08<00:00,  1.12it/s]"
     ]
    },
    {
     "name": "stdout",
     "output_type": "stream",
     "text": [
      "64.0 60 160 1369\n"
     ]
    },
    {
     "name": "stderr",
     "output_type": "stream",
     "text": [
      "100%|█████████████████████████████████████████████████████████████████████████████████████████████████████████████████| 67/67 [01:09<00:00,  1.03s/it]"
     ]
    },
    {
     "name": "stdout",
     "output_type": "stream",
     "text": [
      "65.0 49 284 2512\n"
     ]
    },
    {
     "name": "stderr",
     "output_type": "stream",
     "text": [
      "\n"
     ]
    },
    {
     "name": "stdout",
     "output_type": "stream",
     "text": [
      "(54086, 34)\n",
      "(54086, 34)\n",
      "(50311, 34)\n",
      "(50311, 34)\n"
     ]
    }
   ],
   "source": [
    "# slowとlow(2018では同じ)\n",
    "papers_slow_lowmatched2018 = []\n",
    "papers_low_slowmatched2018 = []\n",
    "# slowとfast(2021では同じ)\n",
    "papers_slow_fastmatched2021 = []\n",
    "papers_fast_slowmatched2021 = []\n",
    "\n",
    "for partition in tqdm(sorted(papers_2016_validread['partition_1e-06'].unique())):\n",
    "    df_slow = papers_2016_validread[(papers_2016_validread['label_hml_2018'].isin(['middle','bottom']))&(papers_2016_validread['label_hml_2021'].isin(['top']))].query(f'`partition_1e-06` == {partition}')\n",
    "    df_fast = papers_2016_validread[(papers_2016_validread['label_hml_2018'].isin(['top']))&(papers_2016_validread['label_hml_2021'].isin(['top']))].query(f'`partition_1e-06` == {partition}')\n",
    "    df_low = papers_2016_validread[(papers_2016_validread['label_hml_2018'].isin(['middle','bottom']))&(papers_2016_validread['label_hml_2021'].isin(['middle','bottom']))].query(f'`partition_1e-06` == {partition}')\n",
    "    \n",
    "    print(partition, len(df_slow), len(df_fast), len(df_low))\n",
    "    \n",
    "    # 2018で揃えたslow vs low\n",
    "    for c2018, count in df_slow['c_history_sum_2018'].value_counts().items():\n",
    "        n_sample = min([len(df_slow.query('c_history_sum_2018 == @c2018')),len(df_low.query('c_history_sum_2018 == @c2018'))])\n",
    "        papers_slow_lowmatched2018.append(df_slow.query('c_history_sum_2018 == @c2018').sample(n_sample, random_state=42))\n",
    "        papers_low_slowmatched2018.append(df_low.query('c_history_sum_2018 == @c2018').sample(n_sample, random_state=42))\n",
    "    \n",
    "    # 2021で揃えたslow vs fast\n",
    "    for c2021, count in df_slow['c_history_sum'].value_counts().items():\n",
    "        n_sample = min([len(df_slow.query('c_history_sum == @c2021')),len(df_fast.query('c_history_sum == @c2021'))])\n",
    "        papers_slow_fastmatched2021.append(df_slow.query('c_history_sum == @c2021').sample(n_sample, random_state=42))\n",
    "        papers_fast_slowmatched2021.append(df_fast.query('c_history_sum == @c2021').sample(n_sample, random_state=42))\n",
    "\n",
    "papers_slow_lowmatched2018 = pd.concat(papers_slow_lowmatched2018)\n",
    "papers_low_slowmatched2018 = pd.concat(papers_low_slowmatched2018)\n",
    "papers_slow_fastmatched2021 = pd.concat(papers_slow_fastmatched2021)\n",
    "papers_fast_slowmatched2021 = pd.concat(papers_fast_slowmatched2021)\n",
    "\n",
    "print(papers_slow_lowmatched2018.shape)\n",
    "print(papers_low_slowmatched2018.shape)\n",
    "print(papers_slow_fastmatched2021.shape)\n",
    "print(papers_fast_slowmatched2021.shape)\n",
    "\n",
    "papers_slow_lowmatched2018.to_pickle('/disks/qnap2/data/t-miura/2023_readership/final_paper/check1_valid_readers/papers_slow_1e-06_lowmatched2018.pickle')\n",
    "papers_low_slowmatched2018.to_pickle('/disks/qnap2/data/t-miura/2023_readership/final_paper/check1_valid_readers/papers_low_1e-06_slowmatched2018.pickle')\n",
    "papers_slow_fastmatched2021.to_pickle('/disks/qnap2/data/t-miura/2023_readership/final_paper/check1_valid_readers/papers_slow_1e-06_fastmatched2021.pickle')\n",
    "papers_fast_slowmatched2021.to_pickle('/disks/qnap2/data/t-miura/2023_readership/final_paper/check1_valid_readers/papers_fast_1e-06_slowmatched2021.pickle')"
   ]
  },
  {
   "cell_type": "code",
   "execution_count": 16,
   "metadata": {
    "execution": {
     "iopub.execute_input": "2024-02-19T12:59:54.143806Z",
     "iopub.status.busy": "2024-02-19T12:59:54.143364Z",
     "iopub.status.idle": "2024-02-19T12:59:54.466187Z",
     "shell.execute_reply": "2024-02-19T12:59:54.465427Z",
     "shell.execute_reply.started": "2024-02-19T12:59:54.143782Z"
    }
   },
   "outputs": [
    {
     "data": {
      "text/html": [
       "<div>\n",
       "<style scoped>\n",
       "    .dataframe tbody tr th:only-of-type {\n",
       "        vertical-align: middle;\n",
       "    }\n",
       "\n",
       "    .dataframe tbody tr th {\n",
       "        vertical-align: top;\n",
       "    }\n",
       "\n",
       "    .dataframe thead th {\n",
       "        text-align: right;\n",
       "    }\n",
       "</style>\n",
       "<table border=\"1\" class=\"dataframe\">\n",
       "  <thead>\n",
       "    <tr style=\"text-align: right;\">\n",
       "      <th></th>\n",
       "      <th>c_history_sum_2018</th>\n",
       "      <th>c_history_sum</th>\n",
       "      <th>jif</th>\n",
       "    </tr>\n",
       "  </thead>\n",
       "  <tbody>\n",
       "    <tr>\n",
       "      <th>count</th>\n",
       "      <td>54086.000000</td>\n",
       "      <td>54086.000000</td>\n",
       "      <td>54086.000000</td>\n",
       "    </tr>\n",
       "    <tr>\n",
       "      <th>mean</th>\n",
       "      <td>9.770477</td>\n",
       "      <td>40.185371</td>\n",
       "      <td>3.421924</td>\n",
       "    </tr>\n",
       "    <tr>\n",
       "      <th>std</th>\n",
       "      <td>4.398704</td>\n",
       "      <td>16.379881</td>\n",
       "      <td>2.714791</td>\n",
       "    </tr>\n",
       "    <tr>\n",
       "      <th>min</th>\n",
       "      <td>0.000000</td>\n",
       "      <td>5.000000</td>\n",
       "      <td>0.000000</td>\n",
       "    </tr>\n",
       "    <tr>\n",
       "      <th>25%</th>\n",
       "      <td>7.000000</td>\n",
       "      <td>30.000000</td>\n",
       "      <td>1.676324</td>\n",
       "    </tr>\n",
       "    <tr>\n",
       "      <th>50%</th>\n",
       "      <td>9.000000</td>\n",
       "      <td>38.000000</td>\n",
       "      <td>2.993827</td>\n",
       "    </tr>\n",
       "    <tr>\n",
       "      <th>75%</th>\n",
       "      <td>12.000000</td>\n",
       "      <td>48.000000</td>\n",
       "      <td>4.522152</td>\n",
       "    </tr>\n",
       "    <tr>\n",
       "      <th>max</th>\n",
       "      <td>23.000000</td>\n",
       "      <td>458.000000</td>\n",
       "      <td>39.592593</td>\n",
       "    </tr>\n",
       "  </tbody>\n",
       "</table>\n",
       "</div>"
      ],
      "text/plain": [
       "       c_history_sum_2018  c_history_sum           jif\n",
       "count        54086.000000   54086.000000  54086.000000\n",
       "mean             9.770477      40.185371      3.421924\n",
       "std              4.398704      16.379881      2.714791\n",
       "min              0.000000       5.000000      0.000000\n",
       "25%              7.000000      30.000000      1.676324\n",
       "50%              9.000000      38.000000      2.993827\n",
       "75%             12.000000      48.000000      4.522152\n",
       "max             23.000000     458.000000     39.592593"
      ]
     },
     "metadata": {},
     "output_type": "display_data"
    },
    {
     "data": {
      "text/html": [
       "<div>\n",
       "<style scoped>\n",
       "    .dataframe tbody tr th:only-of-type {\n",
       "        vertical-align: middle;\n",
       "    }\n",
       "\n",
       "    .dataframe tbody tr th {\n",
       "        vertical-align: top;\n",
       "    }\n",
       "\n",
       "    .dataframe thead th {\n",
       "        text-align: right;\n",
       "    }\n",
       "</style>\n",
       "<table border=\"1\" class=\"dataframe\">\n",
       "  <thead>\n",
       "    <tr style=\"text-align: right;\">\n",
       "      <th></th>\n",
       "      <th>c_history_sum_2018</th>\n",
       "      <th>c_history_sum</th>\n",
       "      <th>jif</th>\n",
       "    </tr>\n",
       "  </thead>\n",
       "  <tbody>\n",
       "    <tr>\n",
       "      <th>count</th>\n",
       "      <td>54086.000000</td>\n",
       "      <td>54086.000000</td>\n",
       "      <td>54086.000000</td>\n",
       "    </tr>\n",
       "    <tr>\n",
       "      <th>mean</th>\n",
       "      <td>9.770477</td>\n",
       "      <td>21.023537</td>\n",
       "      <td>3.129720</td>\n",
       "    </tr>\n",
       "    <tr>\n",
       "      <th>std</th>\n",
       "      <td>4.398704</td>\n",
       "      <td>10.181996</td>\n",
       "      <td>2.467788</td>\n",
       "    </tr>\n",
       "    <tr>\n",
       "      <th>min</th>\n",
       "      <td>0.000000</td>\n",
       "      <td>0.000000</td>\n",
       "      <td>0.000000</td>\n",
       "    </tr>\n",
       "    <tr>\n",
       "      <th>25%</th>\n",
       "      <td>7.000000</td>\n",
       "      <td>14.000000</td>\n",
       "      <td>1.469565</td>\n",
       "    </tr>\n",
       "    <tr>\n",
       "      <th>50%</th>\n",
       "      <td>9.000000</td>\n",
       "      <td>20.000000</td>\n",
       "      <td>2.766234</td>\n",
       "    </tr>\n",
       "    <tr>\n",
       "      <th>75%</th>\n",
       "      <td>12.000000</td>\n",
       "      <td>27.000000</td>\n",
       "      <td>4.198971</td>\n",
       "    </tr>\n",
       "    <tr>\n",
       "      <th>max</th>\n",
       "      <td>23.000000</td>\n",
       "      <td>56.000000</td>\n",
       "      <td>84.988372</td>\n",
       "    </tr>\n",
       "  </tbody>\n",
       "</table>\n",
       "</div>"
      ],
      "text/plain": [
       "       c_history_sum_2018  c_history_sum           jif\n",
       "count        54086.000000   54086.000000  54086.000000\n",
       "mean             9.770477      21.023537      3.129720\n",
       "std              4.398704      10.181996      2.467788\n",
       "min              0.000000       0.000000      0.000000\n",
       "25%              7.000000      14.000000      1.469565\n",
       "50%              9.000000      20.000000      2.766234\n",
       "75%             12.000000      27.000000      4.198971\n",
       "max             23.000000      56.000000     84.988372"
      ]
     },
     "metadata": {},
     "output_type": "display_data"
    },
    {
     "data": {
      "text/html": [
       "<div>\n",
       "<style scoped>\n",
       "    .dataframe tbody tr th:only-of-type {\n",
       "        vertical-align: middle;\n",
       "    }\n",
       "\n",
       "    .dataframe tbody tr th {\n",
       "        vertical-align: top;\n",
       "    }\n",
       "\n",
       "    .dataframe thead th {\n",
       "        text-align: right;\n",
       "    }\n",
       "</style>\n",
       "<table border=\"1\" class=\"dataframe\">\n",
       "  <thead>\n",
       "    <tr style=\"text-align: right;\">\n",
       "      <th></th>\n",
       "      <th>c_history_sum_2018</th>\n",
       "      <th>c_history_sum</th>\n",
       "      <th>jif</th>\n",
       "    </tr>\n",
       "  </thead>\n",
       "  <tbody>\n",
       "    <tr>\n",
       "      <th>count</th>\n",
       "      <td>50311.000000</td>\n",
       "      <td>50311.000000</td>\n",
       "      <td>50311.000000</td>\n",
       "    </tr>\n",
       "    <tr>\n",
       "      <th>mean</th>\n",
       "      <td>9.938403</td>\n",
       "      <td>41.108883</td>\n",
       "      <td>3.478764</td>\n",
       "    </tr>\n",
       "    <tr>\n",
       "      <th>std</th>\n",
       "      <td>4.365069</td>\n",
       "      <td>16.119232</td>\n",
       "      <td>2.738520</td>\n",
       "    </tr>\n",
       "    <tr>\n",
       "      <th>min</th>\n",
       "      <td>0.000000</td>\n",
       "      <td>5.000000</td>\n",
       "      <td>0.000000</td>\n",
       "    </tr>\n",
       "    <tr>\n",
       "      <th>25%</th>\n",
       "      <td>7.000000</td>\n",
       "      <td>31.000000</td>\n",
       "      <td>1.749280</td>\n",
       "    </tr>\n",
       "    <tr>\n",
       "      <th>50%</th>\n",
       "      <td>9.000000</td>\n",
       "      <td>39.000000</td>\n",
       "      <td>3.050293</td>\n",
       "    </tr>\n",
       "    <tr>\n",
       "      <th>75%</th>\n",
       "      <td>12.000000</td>\n",
       "      <td>49.000000</td>\n",
       "      <td>4.568182</td>\n",
       "    </tr>\n",
       "    <tr>\n",
       "      <th>max</th>\n",
       "      <td>23.000000</td>\n",
       "      <td>458.000000</td>\n",
       "      <td>39.592593</td>\n",
       "    </tr>\n",
       "  </tbody>\n",
       "</table>\n",
       "</div>"
      ],
      "text/plain": [
       "       c_history_sum_2018  c_history_sum           jif\n",
       "count        50311.000000   50311.000000  50311.000000\n",
       "mean             9.938403      41.108883      3.478764\n",
       "std              4.365069      16.119232      2.738520\n",
       "min              0.000000       5.000000      0.000000\n",
       "25%              7.000000      31.000000      1.749280\n",
       "50%              9.000000      39.000000      3.050293\n",
       "75%             12.000000      49.000000      4.568182\n",
       "max             23.000000     458.000000     39.592593"
      ]
     },
     "metadata": {},
     "output_type": "display_data"
    },
    {
     "data": {
      "text/html": [
       "<div>\n",
       "<style scoped>\n",
       "    .dataframe tbody tr th:only-of-type {\n",
       "        vertical-align: middle;\n",
       "    }\n",
       "\n",
       "    .dataframe tbody tr th {\n",
       "        vertical-align: top;\n",
       "    }\n",
       "\n",
       "    .dataframe thead th {\n",
       "        text-align: right;\n",
       "    }\n",
       "</style>\n",
       "<table border=\"1\" class=\"dataframe\">\n",
       "  <thead>\n",
       "    <tr style=\"text-align: right;\">\n",
       "      <th></th>\n",
       "      <th>c_history_sum_2018</th>\n",
       "      <th>c_history_sum</th>\n",
       "      <th>jif</th>\n",
       "    </tr>\n",
       "  </thead>\n",
       "  <tbody>\n",
       "    <tr>\n",
       "      <th>count</th>\n",
       "      <td>50311.000000</td>\n",
       "      <td>50311.000000</td>\n",
       "      <td>50311.000000</td>\n",
       "    </tr>\n",
       "    <tr>\n",
       "      <th>mean</th>\n",
       "      <td>17.838584</td>\n",
       "      <td>41.108883</td>\n",
       "      <td>4.111291</td>\n",
       "    </tr>\n",
       "    <tr>\n",
       "      <th>std</th>\n",
       "      <td>7.317558</td>\n",
       "      <td>16.119232</td>\n",
       "      <td>3.057137</td>\n",
       "    </tr>\n",
       "    <tr>\n",
       "      <th>min</th>\n",
       "      <td>3.000000</td>\n",
       "      <td>5.000000</td>\n",
       "      <td>0.000000</td>\n",
       "    </tr>\n",
       "    <tr>\n",
       "      <th>25%</th>\n",
       "      <td>13.000000</td>\n",
       "      <td>31.000000</td>\n",
       "      <td>2.226107</td>\n",
       "    </tr>\n",
       "    <tr>\n",
       "      <th>50%</th>\n",
       "      <td>16.000000</td>\n",
       "      <td>39.000000</td>\n",
       "      <td>3.471370</td>\n",
       "    </tr>\n",
       "    <tr>\n",
       "      <th>75%</th>\n",
       "      <td>22.000000</td>\n",
       "      <td>49.000000</td>\n",
       "      <td>5.255511</td>\n",
       "    </tr>\n",
       "    <tr>\n",
       "      <th>max</th>\n",
       "      <td>145.000000</td>\n",
       "      <td>458.000000</td>\n",
       "      <td>39.592593</td>\n",
       "    </tr>\n",
       "  </tbody>\n",
       "</table>\n",
       "</div>"
      ],
      "text/plain": [
       "       c_history_sum_2018  c_history_sum           jif\n",
       "count        50311.000000   50311.000000  50311.000000\n",
       "mean            17.838584      41.108883      4.111291\n",
       "std              7.317558      16.119232      3.057137\n",
       "min              3.000000       5.000000      0.000000\n",
       "25%             13.000000      31.000000      2.226107\n",
       "50%             16.000000      39.000000      3.471370\n",
       "75%             22.000000      49.000000      5.255511\n",
       "max            145.000000     458.000000     39.592593"
      ]
     },
     "metadata": {},
     "output_type": "display_data"
    }
   ],
   "source": [
    "display(papers_slow_lowmatched2018.describe()[['c_history_sum_2018','c_history_sum','jif']])\n",
    "display(papers_low_slowmatched2018.describe()[['c_history_sum_2018','c_history_sum','jif']])\n",
    "display(papers_slow_fastmatched2021.describe()[['c_history_sum_2018','c_history_sum','jif']])\n",
    "display(papers_fast_slowmatched2021.describe()[['c_history_sum_2018','c_history_sum','jif']])"
   ]
  },
  {
   "cell_type": "markdown",
   "metadata": {},
   "source": [
    "## citation + field + journal"
   ]
  },
  {
   "cell_type": "code",
   "execution_count": 9,
   "metadata": {
    "execution": {
     "iopub.execute_input": "2024-02-19T12:42:53.097269Z",
     "iopub.status.busy": "2024-02-19T12:42:53.097098Z",
     "iopub.status.idle": "2024-02-19T12:50:39.880549Z",
     "shell.execute_reply": "2024-02-19T12:50:39.879417Z",
     "shell.execute_reply.started": "2024-02-19T12:42:53.097253Z"
    },
    "tags": []
   },
   "outputs": [
    {
     "name": "stderr",
     "output_type": "stream",
     "text": [
      "100%|█████████████████████████████████████████████████████████████████████████████████████████████████████████████████| 67/67 [07:23<00:00,  6.61s/it]\n"
     ]
    },
    {
     "name": "stdout",
     "output_type": "stream",
     "text": [
      "(40101, 34)\n",
      "(40101, 34)\n",
      "(20561, 34)\n",
      "(20561, 34)\n"
     ]
    }
   ],
   "source": [
    "papers_slow_lowmatched2018_journal = []\n",
    "papers_low_slowmatched2018_journal = []\n",
    "papers_slow_fastmatched2021_journal = []\n",
    "papers_fast_slowmatched2021_journal = []\n",
    "\n",
    "matched_eid_low_slowmatched = set()\n",
    "matched_eid_fast_slowmatched = set()\n",
    "\n",
    "for partition in tqdm(sorted(papers_2016_validread['partition_1e-06'].unique())):\n",
    "    df_slow = papers_2016_validread[(papers_2016_validread['label_hml_2018'].isin(['middle','bottom']))&(papers_2016_validread['label_hml_2021'].isin(['top']))].query(f'`partition_1e-06` == {partition}')\n",
    "    df_fast = papers_2016_validread[(papers_2016_validread['label_hml_2018'].isin(['top']))&(papers_2016_validread['label_hml_2021'].isin(['top']))].query(f'`partition_1e-06` == {partition}')\n",
    "    df_low = papers_2016_validread[(papers_2016_validread['label_hml_2018'].isin(['middle','bottom']))&(papers_2016_validread['label_hml_2021'].isin(['middle','bottom']))].query(f'`partition_1e-06` == {partition}')\n",
    "            \n",
    "# 2018で揃えたslow vs low\n",
    "    for eid, c2018, journal in df_slow[['eid', 'c_history_sum_2018','journal']].values:\n",
    "        df_low_target = df_low.query('c_history_sum_2018 == @c2018').query('journal == @journal')\n",
    "        if len(df_low_target) != 0:\n",
    "            papers_slow_lowmatched2018_journal.append(df_slow.query('eid == @eid'))\n",
    "            row = df_low_target.sample(1, random_state=42)\n",
    "            papers_low_slowmatched2018_journal.append(row)\n",
    "            matched_eid_low_slowmatched.add(row['eid'].values[0])        \n",
    "        \n",
    "    # 2021で揃えたslow vs fast\n",
    "    for eid, c2021, journal in df_slow[['eid', 'c_history_sum','journal']].values:\n",
    "        df_fast_target = df_fast.query('c_history_sum == @c2021').query('journal == @journal')\n",
    "        if len(df_fast_target) != 0:\n",
    "            papers_slow_fastmatched2021_journal.append(df_slow.query('eid == @eid'))\n",
    "            row = df_fast_target.sample(1, random_state=42)\n",
    "            papers_fast_slowmatched2021_journal.append(row)\n",
    "            matched_eid_fast_slowmatched.add(row['eid'].values[0])\n",
    "\n",
    "papers_slow_lowmatched2018_journal = pd.concat(papers_slow_lowmatched2018_journal)\n",
    "papers_low_slowmatched2018_journal = pd.concat(papers_low_slowmatched2018_journal)\n",
    "papers_slow_fastmatched2021_journal = pd.concat(papers_slow_fastmatched2021_journal)\n",
    "papers_fast_slowmatched2021_journal = pd.concat(papers_fast_slowmatched2021_journal)\n",
    "\n",
    "print(papers_slow_lowmatched2018_journal.shape)\n",
    "print(papers_low_slowmatched2018_journal.shape)\n",
    "print(papers_slow_fastmatched2021_journal.shape)\n",
    "print(papers_fast_slowmatched2021_journal.shape)\n",
    "\n",
    "papers_slow_lowmatched2018_journal.to_pickle('/disks/qnap2/data/t-miura/2023_readership/final_paper/check1_valid_readers/papers_slow_1e-06_lowmatched2018_journal.pickle')\n",
    "papers_low_slowmatched2018_journal.to_pickle('/disks/qnap2/data/t-miura/2023_readership/final_paper/check1_valid_readers/papers_low_1e-06_slowmatched2018_journal.pickle')\n",
    "papers_slow_fastmatched2021_journal.to_pickle('/disks/qnap2/data/t-miura/2023_readership/final_paper/check1_valid_readers/papers_slow_1e-06_fastmatched2021_journal.pickle')\n",
    "papers_fast_slowmatched2021_journal.to_pickle('/disks/qnap2/data/t-miura/2023_readership/final_paper/check1_valid_readers/papers_fast_1e-06_slowmatched2021_journal.pickle')"
   ]
  },
  {
   "cell_type": "code",
   "execution_count": 17,
   "metadata": {
    "execution": {
     "iopub.execute_input": "2024-02-19T13:00:26.034254Z",
     "iopub.status.busy": "2024-02-19T13:00:26.033867Z",
     "iopub.status.idle": "2024-02-19T13:00:26.301119Z",
     "shell.execute_reply": "2024-02-19T13:00:26.300343Z",
     "shell.execute_reply.started": "2024-02-19T13:00:26.034238Z"
    }
   },
   "outputs": [
    {
     "data": {
      "text/html": [
       "<div>\n",
       "<style scoped>\n",
       "    .dataframe tbody tr th:only-of-type {\n",
       "        vertical-align: middle;\n",
       "    }\n",
       "\n",
       "    .dataframe tbody tr th {\n",
       "        vertical-align: top;\n",
       "    }\n",
       "\n",
       "    .dataframe thead th {\n",
       "        text-align: right;\n",
       "    }\n",
       "</style>\n",
       "<table border=\"1\" class=\"dataframe\">\n",
       "  <thead>\n",
       "    <tr style=\"text-align: right;\">\n",
       "      <th></th>\n",
       "      <th>c_history_sum_2018</th>\n",
       "      <th>c_history_sum</th>\n",
       "      <th>jif</th>\n",
       "    </tr>\n",
       "  </thead>\n",
       "  <tbody>\n",
       "    <tr>\n",
       "      <th>count</th>\n",
       "      <td>40101.000000</td>\n",
       "      <td>40101.000000</td>\n",
       "      <td>40101.000000</td>\n",
       "    </tr>\n",
       "    <tr>\n",
       "      <th>mean</th>\n",
       "      <td>9.854168</td>\n",
       "      <td>40.474402</td>\n",
       "      <td>3.720505</td>\n",
       "    </tr>\n",
       "    <tr>\n",
       "      <th>std</th>\n",
       "      <td>4.492502</td>\n",
       "      <td>15.773760</td>\n",
       "      <td>2.623310</td>\n",
       "    </tr>\n",
       "    <tr>\n",
       "      <th>min</th>\n",
       "      <td>0.000000</td>\n",
       "      <td>5.000000</td>\n",
       "      <td>0.000000</td>\n",
       "    </tr>\n",
       "    <tr>\n",
       "      <th>25%</th>\n",
       "      <td>7.000000</td>\n",
       "      <td>30.000000</td>\n",
       "      <td>2.059603</td>\n",
       "    </tr>\n",
       "    <tr>\n",
       "      <th>50%</th>\n",
       "      <td>9.000000</td>\n",
       "      <td>38.000000</td>\n",
       "      <td>3.331395</td>\n",
       "    </tr>\n",
       "    <tr>\n",
       "      <th>75%</th>\n",
       "      <td>12.000000</td>\n",
       "      <td>49.000000</td>\n",
       "      <td>4.803213</td>\n",
       "    </tr>\n",
       "    <tr>\n",
       "      <th>max</th>\n",
       "      <td>23.000000</td>\n",
       "      <td>296.000000</td>\n",
       "      <td>37.781431</td>\n",
       "    </tr>\n",
       "  </tbody>\n",
       "</table>\n",
       "</div>"
      ],
      "text/plain": [
       "       c_history_sum_2018  c_history_sum           jif\n",
       "count        40101.000000   40101.000000  40101.000000\n",
       "mean             9.854168      40.474402      3.720505\n",
       "std              4.492502      15.773760      2.623310\n",
       "min              0.000000       5.000000      0.000000\n",
       "25%              7.000000      30.000000      2.059603\n",
       "50%              9.000000      38.000000      3.331395\n",
       "75%             12.000000      49.000000      4.803213\n",
       "max             23.000000     296.000000     37.781431"
      ]
     },
     "metadata": {},
     "output_type": "display_data"
    },
    {
     "data": {
      "text/html": [
       "<div>\n",
       "<style scoped>\n",
       "    .dataframe tbody tr th:only-of-type {\n",
       "        vertical-align: middle;\n",
       "    }\n",
       "\n",
       "    .dataframe tbody tr th {\n",
       "        vertical-align: top;\n",
       "    }\n",
       "\n",
       "    .dataframe thead th {\n",
       "        text-align: right;\n",
       "    }\n",
       "</style>\n",
       "<table border=\"1\" class=\"dataframe\">\n",
       "  <thead>\n",
       "    <tr style=\"text-align: right;\">\n",
       "      <th></th>\n",
       "      <th>c_history_sum_2018</th>\n",
       "      <th>c_history_sum</th>\n",
       "      <th>jif</th>\n",
       "    </tr>\n",
       "  </thead>\n",
       "  <tbody>\n",
       "    <tr>\n",
       "      <th>count</th>\n",
       "      <td>40101.000000</td>\n",
       "      <td>40101.000000</td>\n",
       "      <td>40101.000000</td>\n",
       "    </tr>\n",
       "    <tr>\n",
       "      <th>mean</th>\n",
       "      <td>9.854168</td>\n",
       "      <td>22.041071</td>\n",
       "      <td>3.720505</td>\n",
       "    </tr>\n",
       "    <tr>\n",
       "      <th>std</th>\n",
       "      <td>4.492502</td>\n",
       "      <td>10.239807</td>\n",
       "      <td>2.623310</td>\n",
       "    </tr>\n",
       "    <tr>\n",
       "      <th>min</th>\n",
       "      <td>0.000000</td>\n",
       "      <td>0.000000</td>\n",
       "      <td>0.000000</td>\n",
       "    </tr>\n",
       "    <tr>\n",
       "      <th>25%</th>\n",
       "      <td>7.000000</td>\n",
       "      <td>15.000000</td>\n",
       "      <td>2.059603</td>\n",
       "    </tr>\n",
       "    <tr>\n",
       "      <th>50%</th>\n",
       "      <td>9.000000</td>\n",
       "      <td>21.000000</td>\n",
       "      <td>3.331395</td>\n",
       "    </tr>\n",
       "    <tr>\n",
       "      <th>75%</th>\n",
       "      <td>12.000000</td>\n",
       "      <td>29.000000</td>\n",
       "      <td>4.803213</td>\n",
       "    </tr>\n",
       "    <tr>\n",
       "      <th>max</th>\n",
       "      <td>23.000000</td>\n",
       "      <td>56.000000</td>\n",
       "      <td>37.781431</td>\n",
       "    </tr>\n",
       "  </tbody>\n",
       "</table>\n",
       "</div>"
      ],
      "text/plain": [
       "       c_history_sum_2018  c_history_sum           jif\n",
       "count        40101.000000   40101.000000  40101.000000\n",
       "mean             9.854168      22.041071      3.720505\n",
       "std              4.492502      10.239807      2.623310\n",
       "min              0.000000       0.000000      0.000000\n",
       "25%              7.000000      15.000000      2.059603\n",
       "50%              9.000000      21.000000      3.331395\n",
       "75%             12.000000      29.000000      4.803213\n",
       "max             23.000000      56.000000     37.781431"
      ]
     },
     "metadata": {},
     "output_type": "display_data"
    },
    {
     "data": {
      "text/html": [
       "<div>\n",
       "<style scoped>\n",
       "    .dataframe tbody tr th:only-of-type {\n",
       "        vertical-align: middle;\n",
       "    }\n",
       "\n",
       "    .dataframe tbody tr th {\n",
       "        vertical-align: top;\n",
       "    }\n",
       "\n",
       "    .dataframe thead th {\n",
       "        text-align: right;\n",
       "    }\n",
       "</style>\n",
       "<table border=\"1\" class=\"dataframe\">\n",
       "  <thead>\n",
       "    <tr style=\"text-align: right;\">\n",
       "      <th></th>\n",
       "      <th>c_history_sum_2018</th>\n",
       "      <th>c_history_sum</th>\n",
       "      <th>jif</th>\n",
       "    </tr>\n",
       "  </thead>\n",
       "  <tbody>\n",
       "    <tr>\n",
       "      <th>count</th>\n",
       "      <td>20561.000000</td>\n",
       "      <td>20561.000000</td>\n",
       "      <td>20561.000000</td>\n",
       "    </tr>\n",
       "    <tr>\n",
       "      <th>mean</th>\n",
       "      <td>10.822334</td>\n",
       "      <td>41.449443</td>\n",
       "      <td>4.536851</td>\n",
       "    </tr>\n",
       "    <tr>\n",
       "      <th>std</th>\n",
       "      <td>4.438545</td>\n",
       "      <td>14.194099</td>\n",
       "      <td>2.768293</td>\n",
       "    </tr>\n",
       "    <tr>\n",
       "      <th>min</th>\n",
       "      <td>0.000000</td>\n",
       "      <td>5.000000</td>\n",
       "      <td>0.000000</td>\n",
       "    </tr>\n",
       "    <tr>\n",
       "      <th>25%</th>\n",
       "      <td>8.000000</td>\n",
       "      <td>32.000000</td>\n",
       "      <td>2.907937</td>\n",
       "    </tr>\n",
       "    <tr>\n",
       "      <th>50%</th>\n",
       "      <td>10.000000</td>\n",
       "      <td>40.000000</td>\n",
       "      <td>3.993483</td>\n",
       "    </tr>\n",
       "    <tr>\n",
       "      <th>75%</th>\n",
       "      <td>13.000000</td>\n",
       "      <td>49.000000</td>\n",
       "      <td>5.714462</td>\n",
       "    </tr>\n",
       "    <tr>\n",
       "      <th>max</th>\n",
       "      <td>23.000000</td>\n",
       "      <td>158.000000</td>\n",
       "      <td>37.781431</td>\n",
       "    </tr>\n",
       "  </tbody>\n",
       "</table>\n",
       "</div>"
      ],
      "text/plain": [
       "       c_history_sum_2018  c_history_sum           jif\n",
       "count        20561.000000   20561.000000  20561.000000\n",
       "mean            10.822334      41.449443      4.536851\n",
       "std              4.438545      14.194099      2.768293\n",
       "min              0.000000       5.000000      0.000000\n",
       "25%              8.000000      32.000000      2.907937\n",
       "50%             10.000000      40.000000      3.993483\n",
       "75%             13.000000      49.000000      5.714462\n",
       "max             23.000000     158.000000     37.781431"
      ]
     },
     "metadata": {},
     "output_type": "display_data"
    },
    {
     "data": {
      "text/html": [
       "<div>\n",
       "<style scoped>\n",
       "    .dataframe tbody tr th:only-of-type {\n",
       "        vertical-align: middle;\n",
       "    }\n",
       "\n",
       "    .dataframe tbody tr th {\n",
       "        vertical-align: top;\n",
       "    }\n",
       "\n",
       "    .dataframe thead th {\n",
       "        text-align: right;\n",
       "    }\n",
       "</style>\n",
       "<table border=\"1\" class=\"dataframe\">\n",
       "  <thead>\n",
       "    <tr style=\"text-align: right;\">\n",
       "      <th></th>\n",
       "      <th>c_history_sum_2018</th>\n",
       "      <th>c_history_sum</th>\n",
       "      <th>jif</th>\n",
       "    </tr>\n",
       "  </thead>\n",
       "  <tbody>\n",
       "    <tr>\n",
       "      <th>count</th>\n",
       "      <td>20561.000000</td>\n",
       "      <td>20561.000000</td>\n",
       "      <td>20561.000000</td>\n",
       "    </tr>\n",
       "    <tr>\n",
       "      <th>mean</th>\n",
       "      <td>18.182773</td>\n",
       "      <td>41.449443</td>\n",
       "      <td>4.536851</td>\n",
       "    </tr>\n",
       "    <tr>\n",
       "      <th>std</th>\n",
       "      <td>6.763447</td>\n",
       "      <td>14.194099</td>\n",
       "      <td>2.768293</td>\n",
       "    </tr>\n",
       "    <tr>\n",
       "      <th>min</th>\n",
       "      <td>3.000000</td>\n",
       "      <td>5.000000</td>\n",
       "      <td>0.000000</td>\n",
       "    </tr>\n",
       "    <tr>\n",
       "      <th>25%</th>\n",
       "      <td>13.000000</td>\n",
       "      <td>32.000000</td>\n",
       "      <td>2.907937</td>\n",
       "    </tr>\n",
       "    <tr>\n",
       "      <th>50%</th>\n",
       "      <td>17.000000</td>\n",
       "      <td>40.000000</td>\n",
       "      <td>3.993483</td>\n",
       "    </tr>\n",
       "    <tr>\n",
       "      <th>75%</th>\n",
       "      <td>22.000000</td>\n",
       "      <td>49.000000</td>\n",
       "      <td>5.714462</td>\n",
       "    </tr>\n",
       "    <tr>\n",
       "      <th>max</th>\n",
       "      <td>71.000000</td>\n",
       "      <td>158.000000</td>\n",
       "      <td>37.781431</td>\n",
       "    </tr>\n",
       "  </tbody>\n",
       "</table>\n",
       "</div>"
      ],
      "text/plain": [
       "       c_history_sum_2018  c_history_sum           jif\n",
       "count        20561.000000   20561.000000  20561.000000\n",
       "mean            18.182773      41.449443      4.536851\n",
       "std              6.763447      14.194099      2.768293\n",
       "min              3.000000       5.000000      0.000000\n",
       "25%             13.000000      32.000000      2.907937\n",
       "50%             17.000000      40.000000      3.993483\n",
       "75%             22.000000      49.000000      5.714462\n",
       "max             71.000000     158.000000     37.781431"
      ]
     },
     "metadata": {},
     "output_type": "display_data"
    }
   ],
   "source": [
    "display(papers_slow_lowmatched2018_journal.describe()[['c_history_sum_2018','c_history_sum','jif']])\n",
    "display(papers_low_slowmatched2018_journal.describe()[['c_history_sum_2018','c_history_sum','jif']])\n",
    "display(papers_slow_fastmatched2021_journal.describe()[['c_history_sum_2018','c_history_sum','jif']])\n",
    "display(papers_fast_slowmatched2021_journal.describe()[['c_history_sum_2018','c_history_sum','jif']])"
   ]
  },
  {
   "cell_type": "code",
   "execution_count": 10,
   "metadata": {
    "execution": {
     "iopub.execute_input": "2024-02-19T12:50:39.881886Z",
     "iopub.status.busy": "2024-02-19T12:50:39.881697Z",
     "iopub.status.idle": "2024-02-19T12:50:39.891368Z",
     "shell.execute_reply": "2024-02-19T12:50:39.890578Z",
     "shell.execute_reply.started": "2024-02-19T12:50:39.881869Z"
    },
    "tags": []
   },
   "outputs": [
    {
     "data": {
      "text/plain": [
       "4.536850615766816"
      ]
     },
     "execution_count": 10,
     "metadata": {},
     "output_type": "execute_result"
    }
   ],
   "source": [
    "papers_slow_fastmatched2021_journal['jif'].mean()"
   ]
  },
  {
   "cell_type": "code",
   "execution_count": 11,
   "metadata": {
    "execution": {
     "iopub.execute_input": "2024-02-19T12:50:39.892136Z",
     "iopub.status.busy": "2024-02-19T12:50:39.891990Z",
     "iopub.status.idle": "2024-02-19T12:50:39.897899Z",
     "shell.execute_reply": "2024-02-19T12:50:39.897128Z",
     "shell.execute_reply.started": "2024-02-19T12:50:39.892121Z"
    },
    "tags": []
   },
   "outputs": [
    {
     "data": {
      "text/plain": [
       "4.536850615766816"
      ]
     },
     "execution_count": 11,
     "metadata": {},
     "output_type": "execute_result"
    }
   ],
   "source": [
    "papers_fast_slowmatched2021_journal['jif'].mean()"
   ]
  },
  {
   "cell_type": "code",
   "execution_count": null,
   "metadata": {},
   "outputs": [],
   "source": []
  }
 ],
 "metadata": {
  "kernelspec": {
   "display_name": "Python 3 (ipykernel)",
   "language": "python",
   "name": "python3"
  },
  "language_info": {
   "codemirror_mode": {
    "name": "ipython",
    "version": 3
   },
   "file_extension": ".py",
   "mimetype": "text/x-python",
   "name": "python",
   "nbconvert_exporter": "python",
   "pygments_lexer": "ipython3",
   "version": "3.10.12"
  },
  "toc": {
   "base_numbering": 1,
   "nav_menu": {},
   "number_sections": true,
   "sideBar": true,
   "skip_h1_title": false,
   "title_cell": "Table of Contents",
   "title_sidebar": "Contents",
   "toc_cell": false,
   "toc_position": {},
   "toc_section_display": true,
   "toc_window_display": false
  }
 },
 "nbformat": 4,
 "nbformat_minor": 4
}
